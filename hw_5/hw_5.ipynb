{
 "cells": [
  {
   "cell_type": "markdown",
   "metadata": {
    "collapsed": true,
    "pycharm": {
     "name": "#%% md\n"
    }
   },
   "source": [
    "# Homework 5"
   ]
  },
  {
   "cell_type": "markdown",
   "metadata": {
    "pycharm": {
     "name": "#%% md\n"
    }
   },
   "source": [
    "## Q1\n",
    "1. Compute the gradient $\\nabla f(x)$ and Hessian $\\nabla^{2} f(x)$ of the Rosenbrock\n",
    "function\n",
    "\n",
    "\\begin{aligned}\n",
    "f\\left(x_{1}, x_{2}\\right)=100\\left(x_{2}-x_{1}^{2}\\right)^{2}+\\left(1-x_{1}\\right)^{2}\n",
    "\\end{aligned}"
   ]
  },
  {
   "cell_type": "markdown",
   "metadata": {
    "pycharm": {
     "name": "#%% md\n"
    }
   },
   "source": [
    "## Q1 Solution\n",
    "\n",
    "The gradient has the following form:\n",
    "\n",
    "\\begin{equation}\n",
    "\\nabla f=\\left[\\begin{array}{c}\n",
    "\\frac{\\partial f}{\\partial x_{1}} \\\\\n",
    "\\frac{\\partial f}{\\partial x_{2}}\n",
    "\\end{array}\\right]\n",
    "\\end{equation}\n",
    "\n",
    "Let's calculate the derivative with respect to $x_1$ first:\n",
    "\n",
    "\\begin{aligned}\n",
    "&\\frac{\\partial f}{\\partial x_{1}}=200\\left(x_{2}-x_{1}^{2}\\right)\\left(-2 x_{1}\\right)-2\\left(1-x_{1}\\right) \\\\\n",
    "&\\frac{\\partial f}{\\partial x_{1}}=-2\\left[\\left(200 x_{2}-200 x_{1}^{2}\\right)\\left(x_{1}\\right)+1-x_{1}\\right] \\\\\n",
    "&\\frac{\\partial f}{\\partial x_{1}}=-2\\left(200 x_{1} x_{2}-200 x_{1}^{3}+1-x_{1}\\right) \\\\\n",
    "&\\frac{\\partial f}{\\partial x_{1}}=2\\left(200 x_{1}^{3}-200 x_{1} x_{2}+x_{1}-1\\right)\n",
    "\\end{aligned}\n",
    "\n",
    "Then, we calculate the derivative with respect to $x_2$:\n",
    "\n",
    "\\begin{equation}\n",
    "\\frac{\\partial f}{\\partial x_{2}}=200\\left(x_{2}-x_{1}^{2}\\right)\n",
    "\\end{equation}\n",
    "\n",
    "Thus, the gradient $\\nabla f(x)$ is:\n",
    "\n",
    "\\begin{equation}\n",
    "\\nabla f=\\left[\\begin{array}{c}\n",
    "2\\left(200 x_{1}^{3}-200 x_1 x_2+x_{1}-1\\right) \\\\\n",
    "200\\left(x_2-x_{1} 2\\right)\n",
    "\\end{array}\\right]\n",
    "\\end{equation}\n",
    "\n",
    "We will use the result above to derive the Hessian matrix which has the following form:\n",
    "\n",
    "\\begin{equation}\n",
    "\\textbf H f=\\left[\\begin{array}{ll}\n",
    "\\frac{\\partial^{2} f}{\\partial x_{1}^{2}} & \\frac{\\partial^{2} f}{\\partial x_{1} \\partial x_{2}} \\\\\n",
    "\\frac{\\partial^{2} f}{\\partial x_2 \\partial x_{1}} & \\frac{\\partial^{2} f}{\\partial x_{2}^{2}}\n",
    "\\end{array}\\right]\n",
    "\\end{equation}\n",
    "\n",
    "Using the previous results we have:\n",
    "\n",
    "\\begin{equation}\n",
    "\\begin{aligned}\n",
    "&\\frac{\\partial^{2} f}{\\partial x_{1}^{2}}=1200 x_{1}^{2}-400 x_{2}+2 \\\\\n",
    "&\\frac{\\partial^{2} f}{\\partial x_{2}^{2}}=200 \\\\\n",
    "&\\frac{\\partial^{2} f}{\\partial x_{1} \\partial x_{2}}=-400 x_{1} \\\\\n",
    "&\\frac{\\partial^{2} f}{\\partial x_{2} \\partial x_{1}}=-400 x_{1}\n",
    "\\end{aligned}\n",
    "\\end{equation}\n",
    "\n",
    "And thus the Hessian matrix is:\n",
    "\n",
    "\\begin{equation}\n",
    "\\textbf H f=\\left[\\begin{array}{ll}\n",
    "1200x_1^2-400x_2 +2 & -400 x_1 \\\\\n",
    "-400 x_1 & 200\n",
    "\\end{array}\\right]\n",
    "\\end{equation}"
   ]
  },
  {
   "cell_type": "markdown",
   "metadata": {
    "pycharm": {
     "name": "#%% md\n"
    }
   },
   "source": [
    "## Q2\n",
    "Implement the Newton’s Method with line search given in Algorithm 1. Use the Newton’s\n",
    "method to minimize the Rosenbrock function in Problem 1. Set the initial stepsize\n",
    "$\\bar{\\alpha}=1$ Select your own choice of $\\rho \\in(0,1), c \\in(0,1)$. First run the\n",
    "algorithm from the initial point $x^{0}=(1.2,1.2)^{\\top}$, and then try the more\n",
    "difficult starting point $x^{0}=(-1.2,1)^{\\top}$. For each starting point, print out\n",
    "the step length $\\alpha^{k}$ used by the algorithm as well as the point $x^{k}$ for\n",
    "every step $k$. You should observe that Newton's Method converges very fast.\n",
    "\n",
    "![Algorithm 1](algo_1.jpg)"
   ]
  },
  {
   "cell_type": "markdown",
   "metadata": {
    "pycharm": {
     "name": "#%% md\n"
    }
   },
   "source": [
    "## Q2 Solution\n",
    "First, let's implement the algorithm using python and the numpy package. We will use\n",
    "the results from Q1 to define the gradient and hessian of the Rosenbrock function."
   ]
  },
  {
   "cell_type": "code",
   "execution_count": 45,
   "metadata": {
    "pycharm": {
     "name": "#%%\n"
    }
   },
   "outputs": [],
   "source": [
    "import numpy as np\n",
    "\n",
    "def f(x):\n",
    "    return 100 * (x[1] - x[0] ** 2) ** 2 + (1 - x[0]) ** 2\n",
    "\n",
    "def df(x):\n",
    "    nabla = np.zeros(2)\n",
    "    nabla[0] = 2 * (200 * x[0] ** 3 - 200 * x[0] * x[1] + x[0] - 1)\n",
    "    nabla[1] = 200 * (x[1] - x[0] ** 2)\n",
    "\n",
    "    return nabla\n",
    "\n",
    "def d2f(x):\n",
    "    hess = np.zeros((2, 2))\n",
    "    hess[0, 0] = 1200 * x[0] ** 2 - 400 * x[1] + 2\n",
    "    hess[1, 1] = 200\n",
    "    hess[0, 1] = hess[1, 0] = -400 * x[0]\n",
    "\n",
    "    return hess\n",
    "\n",
    "def min_rosenbrock(x_0, alpha_bar, eps):\n",
    "    k = 0\n",
    "    d_0 = -np.linalg.inv(d2f(x_0)) @ df(x_0)\n",
    "    x = x_0\n",
    "\n",
    "    d = d_0\n",
    "    while np.linalg.norm(df(x)) > eps:\n",
    "        alpha = alpha_bar\n",
    "        rho = np.random.rand()\n",
    "        c = np.random.rand()\n",
    "        while f(x + alpha * d) > f(x) + c * alpha * df(x).T @ d:\n",
    "            alpha = rho * alpha\n",
    "        print(f\"----Iteration {k}----\")\n",
    "        print(f\"Step Length: {alpha}\")\n",
    "        print(f\"x^{k}: {x}\")\n",
    "        x = x + alpha * d\n",
    "        d = -np.linalg.inv(d2f(x)) @ df(x)\n",
    "        k += 1"
   ]
  },
  {
   "cell_type": "code",
   "execution_count": 46,
   "metadata": {
    "pycharm": {
     "name": "#%%\n"
    }
   },
   "outputs": [
    {
     "name": "stdout",
     "output_type": "stream",
     "text": [
      "----Iteration 0----\n",
      "Step Length: 1\n",
      "x^0: [1.2 1.2]\n",
      "----Iteration 1----\n",
      "Step Length: 0.5346613079766228\n",
      "x^1: [1.19591837 1.43020408]\n",
      "----Iteration 2----\n",
      "Step Length: 0.4385207573079363\n",
      "x^2: [1.09151626 1.18050019]\n",
      "----Iteration 3----\n",
      "Step Length: 1\n",
      "x^3: [1.07890219 1.15774647]\n",
      "----Iteration 4----\n",
      "Step Length: 0.0020247873618312916\n",
      "x^4: [1.0439386  1.08858535]\n",
      "----Iteration 5----\n",
      "Step Length: 1\n",
      "x^5: [1.04386711 1.08843857]\n",
      "----Iteration 6----\n",
      "Step Length: 0.07266585425150308\n",
      "x^6: [1.00860406 1.01603867]\n",
      "----Iteration 7----\n",
      "Step Length: 0.6826994266001746\n",
      "x^7: [1.00810336 1.01511902]\n",
      "----Iteration 8----\n",
      "Step Length: 1\n",
      "x^8: [1.00360814 1.00684312]\n",
      "----Iteration 9----\n",
      "Step Length: 0.1577285736172359\n",
      "x^9: [1.00025869 1.00050623]\n",
      "----Iteration 10----\n",
      "Step Length: 1\n",
      "x^10: [1.00021798 1.00042656]\n"
     ]
    }
   ],
   "source": [
    "x_0 = np.array([1.2, 1.2])\n",
    "alpha_bar = 1\n",
    "eps = 10 ** -4\n",
    "\n",
    "min_rosenbrock(x_0, alpha_bar, eps)"
   ]
  },
  {
   "cell_type": "markdown",
   "metadata": {
    "pycharm": {
     "name": "#%% md\n"
    }
   },
   "source": [
    "From the above result we can see that it took 7 iterations to reach the optimum solution\n",
    "of $x = [1, 1]^T$ with the minimum value being zero, starting from the point\n",
    "$x^0 = [1.2 , 1.2]^T$.\n",
    "\n",
    "Next, we will start the optimization from the point $x^0 = [-1.2, 1]^T$"
   ]
  },
  {
   "cell_type": "code",
   "execution_count": 47,
   "metadata": {
    "pycharm": {
     "name": "#%%\n"
    }
   },
   "outputs": [
    {
     "name": "stdout",
     "output_type": "stream",
     "text": [
      "----Iteration 0----\n",
      "Step Length: 0.14148148058839893\n",
      "x^0: [-1.2  1. ]\n",
      "----Iteration 1----\n",
      "Step Length: 0.47124618019569325\n",
      "x^1: [-1.1965027   1.05385834]\n",
      "----Iteration 2----\n",
      "Step Length: 1\n",
      "x^2: [-1.18298128  1.19951963]\n",
      "----Iteration 3----\n",
      "Step Length: 0.13335976773408106\n",
      "x^3: [-1.12971836  1.27342664]\n",
      "----Iteration 4----\n",
      "Step Length: 0.011396815034403556\n",
      "x^4: [-0.94851318  0.86438334]\n",
      "----Iteration 5----\n",
      "Step Length: 0.1407139139432948\n",
      "x^5: [-0.94575758  0.85955812]\n",
      "----Iteration 6----\n",
      "Step Length: 0.19900112491131183\n",
      "x^6: [-0.91144678  0.79956955]\n",
      "----Iteration 7----\n",
      "Step Length: 0.2991597819906734\n",
      "x^7: [-0.85885826  0.70990828]\n",
      "----Iteration 8----\n",
      "Step Length: 1\n",
      "x^8: [-0.77390431  0.57227694]\n",
      "----Iteration 9----\n",
      "Step Length: 1\n",
      "x^9: [-0.49367498  0.1651865 ]\n",
      "----Iteration 10----\n",
      "Step Length: 0.35898899711202803\n",
      "x^10: [-0.40426386  0.15543492]\n",
      "----Iteration 11----\n",
      "Step Length: 0.27096669509823623\n",
      "x^11: [-0.21028904  0.00147079]\n",
      "----Iteration 12----\n",
      "Step Length: 1\n",
      "x^12: [-0.17594943 -0.00138769]\n",
      "----Iteration 13----\n",
      "Step Length: 0.19817759156428238\n",
      "x^13: [-0.01850915 -0.02444485]\n",
      "----Iteration 14----\n",
      "Step Length: 1\n",
      "x^14: [ 0.01537185 -0.02078676]\n",
      "----Iteration 15----\n",
      "Step Length: 0.6203303521818726\n",
      "x^15: [0.20455571 0.00605251]\n",
      "----Iteration 16----\n",
      "Step Length: 1\n",
      "x^16: [0.26504012 0.05299932]\n",
      "----Iteration 17----\n",
      "Step Length: 1\n",
      "x^17: [0.43022234 0.1578061 ]\n",
      "----Iteration 18----\n",
      "Step Length: 0.6274777295879217\n",
      "x^18: [0.51846374 0.26101811]\n",
      "----Iteration 19----\n",
      "Step Length: 1\n",
      "x^19: [0.63661657 0.38841991]\n",
      "----Iteration 20----\n",
      "Step Length: 1\n",
      "x^20: [0.71972977 0.51110314]\n",
      "----Iteration 21----\n",
      "Step Length: 1\n",
      "x^21: [0.83741319 0.68741147]\n",
      "----Iteration 22----\n",
      "Step Length: 1\n",
      "x^22: [0.88054107 0.77349256]\n",
      "----Iteration 23----\n",
      "Step Length: 0.21469211618686093\n",
      "x^23: [0.96761009 0.92868827]\n",
      "----Iteration 24----\n",
      "Step Length: 1\n",
      "x^24: [0.97037372 0.93566409]\n",
      "----Iteration 25----\n",
      "Step Length: 0.04740730112085223\n",
      "x^25: [0.98388804 0.96785304]\n",
      "----Iteration 26----\n",
      "Step Length: 1\n",
      "x^26: [0.98462495 0.96931177]\n",
      "----Iteration 27----\n",
      "Step Length: 1\n",
      "x^27: [0.99948144 0.99874244]\n"
     ]
    }
   ],
   "source": [
    "x_0 = np.array([-1.2, 1])\n",
    "min_rosenbrock(x_0, alpha_bar, eps)"
   ]
  },
  {
   "cell_type": "markdown",
   "metadata": {
    "pycharm": {
     "name": "#%% md\n"
    }
   },
   "source": [
    "In the last case, it took 27 iterations to reach the optimum solution."
   ]
  },
  {
   "cell_type": "markdown",
   "metadata": {
    "pycharm": {
     "name": "#%% md\n"
    }
   },
   "source": [
    "# Q3\n",
    "\n",
    "Figure 1 below illustrates the water network of Newvillage. The lines are water\n",
    "piplelines numbered from 1 through 13 . The arrows on the lines are possible\n",
    "direction(s) of flow of water in these pipelines. The circles are water sources\n",
    "numbered $A, B, C$. The rectangles are houses $\\mathrm{D}, \\mathrm{E}, \\mathrm{F},\n",
    "\\mathrm{G}, \\mathrm{H}$. The maximum possible capacity of the water sources are (the\n",
    "sources can operate at less than the maximum capacity): A: 100 Units, B: 100 Units, C:\n",
    "80 Units Demands of water in the houses are: D: 50 Units, E: 60 Units, F: 40 Units, G:\n",
    "30 Units, H: 70 Units Since the houses are at different elevation and the pipes are of\n",
    "different diameter, the cost of transporting water is different in the different pipes.\n",
    "These costs per unit of water are: Pipe 1: $\\$ 2$, Pipe 2: $\\$ 3$, Pipe $3: \\$ 4$, Pipe\n",
    "4: $\\$ 2$, Pipe 5: $\\$ 3$, Pipe 6: $\\$ 2$, Pipe 7: $\\$ 4$, Pipe 8: $\\$ 1$, Pipe 9:\n",
    "$\\$ 2$, Pipe 10: $\\$ 4$, Pipe 11: $\\$ 5$, Pipe 12: $\\$ 1$, Pipe 13: $\\$ 2$. Formulate\n",
    "an LP to minimize the total cost of transporting water so as to meet the water demands\n",
    "of each house.\n",
    "\n",
    "![Water Network](water_net_q2.png)"
   ]
  },
  {
   "cell_type": "markdown",
   "metadata": {
    "pycharm": {
     "name": "#%% md\n"
    }
   },
   "source": [
    "## Q3 Solution\n",
    "We will focus this formulation using the arcs between the sources and the houses to\n",
    "define the objective function and constraints, mostly using the flow conservation\n",
    "principle between the nodes (sources and houses).\n",
    "\n",
    "The set of Arcs $A$ is defined by the letters of the sources and houses, i.e: the arc\n",
    "between the source A and the house D is **AD**"
   ]
  },
  {
   "cell_type": "markdown",
   "metadata": {
    "pycharm": {
     "name": "#%% md\n"
    }
   },
   "source": [
    "The **objective function** to minimize is the following:\n",
    "\n",
    "\\begin{aligned}\n",
    "&\\min 2 x_{A D}+4 x_{A E}+2 x_{D F}+4 x_{E F}+2 x_{EH} + 4 x_{HF}+3 x_{B D}+3 x_{B F}\\\\\n",
    "&+2 x_{F D}+2 x_{BG}+5 x_{C F}+2 x_{C H}+x_{C G}+x_{F G}+2x_{H E}\n",
    "\\end{aligned}\n",
    "\n",
    "> Notice that we are including the quantities of water that can go in another direction\n",
    "as additional variables since ($x_{DF}, x_{EH}$) are equivalent in cost to ($x_{FD},\n",
    "x_{HE}$). We need to define them as separate variables as they will have a different\n",
    "sign in the constraints related to the flow conservation principle as formulated below.\n",
    "> However, it is expected that the solver would choose only one of the equivalent\n",
    "> variables with a value higher than zero.\n",
    "\n",
    "**Program Constraints**:\n",
    "\n",
    "\\begin{aligned}\n",
    "&x_{A D}+x_{A E} \\leq 100 \\\\\n",
    "&x_{B D}+x_{B F}+x_{B G} \\leq 100 \\\\\n",
    "&x_{CH}+x_{C F}+x_{C G} \\leq 80 \\\\\n",
    "\\\\\n",
    "&x_{A D}+x_{B D}+x_{F D}-x_{D F} \\geq 50\\\\\n",
    "&x_{A E}-x_{E F}+x_{H E}-x_{E H} \\geq 60\\\\\n",
    "&x_{D F}-x_{F D}+x_{BG}-x_{FG}+x_{C F}+x_{H F}+x_{E F} \\geq 40\\\\\n",
    "&x_{B G}+x_{F G}+x_{C G} \\geq 30\\\\\n",
    "&x_{E H}-x_{H E}-x_{H F}+x_{CH} \\geq 70 \\\\\n",
    "\\\\\n",
    "&x_{i j} \\geq 0 \\quad \\forall(i, j) \\in A\n",
    "\\end{aligned}"
   ]
  },
  {
   "cell_type": "markdown",
   "metadata": {
    "pycharm": {
     "name": "#%% md\n"
    }
   },
   "source": [
    "## Q4\n",
    "\n",
    "Consider the following electric power network shown in Figure 2. This network is taken\n",
    "from a real-world electric power system. Electricity generators are located at\n",
    "nodes 1, 3, and 5 and producing $p_{1}, p_{2}, p_{3}$ amounts of electricity,\n",
    "respectively. Electricity loads are located at nodes 2, 4 , and 6 and are consuming\n",
    "$d_{1}, d_{2}, d_{3}$ amounts of electricity, respectively. The demand is fixed and\n",
    "given as $d_{1}=110, d_{2}=65, d_{3}=95$.\n",
    "Each generator $i$ 's production must be within an upper and a lower bound as\n",
    "$p_{i}^{\\min } \\leq p_{i} \\leq p_{i}^{\\max }$. The bounds are given as\n",
    "$p_{1}^{\\min }=20, p_{1}^{\\max }=200, p_{2}^{\\min }=20, p_{2}^{\\max }=150,\n",
    "p_{3}^{\\min }=10, p_{3}^{\\max }=$ $150 .$\n",
    "The flow limits over lines are given as $f_{12}^{\\max }=100, f_{23}^{\\max }=110,\n",
    "f_{34}^{\\max }=50, f_{45}^{\\max }=80, f_{56}^{\\max }=$ $60, f_{61}^{\\max }=40$\n",
    "The line parameters are given as $B_{12}=11.6, B_{23}=5.9, B_{34}=13.7, B_{45}=9.8,\n",
    "B_{56}=$ $5.6, B_{61}=10.5 .$ The unit generation costs are given as $c_{1}=16,\n",
    "c_{2}=20, c_{3}=8$.\n",
    "\n",
    "(a) Formulate the power system scheduling problem using the model discussed in\n",
    "Lecture $2 .$\n",
    "\n",
    "(b) Implement and solve the model using CVXPY. Write down the optimal solution.\n",
    "\n",
    "(c) Find the electricity prices for demand at nodes $2,4,6$. To do this, use the\n",
    "command constraints[0].dual_value to find the dual variable of constraints[0].\n",
    "Hint: Recall the electricity price at node $i$ is the dual variable for the flow\n",
    "conservation constraint at node $i .$\n",
    "\n",
    "![Electric Network](electric_network.png)"
   ]
  },
  {
   "cell_type": "markdown",
   "metadata": {
    "pycharm": {
     "name": "#%% md\n"
    }
   },
   "source": [
    "## Q4 Solution\n",
    "---\n",
    "### Q4.a Solution\n",
    "First, we define the cost function:\n",
    "\n",
    "$\\min 10 p_1 + 20 p_2 + 8 p_3$\n",
    "\n",
    "Then, we have the following flow definitions to define the problem constraints:\n",
    "\n",
    "![User defined flows](electric_network_flows.png)\n",
    "\n",
    "**Constraints:**\n",
    "- Flow Constraints\n",
    "\n",
    "\\begin{array}{ll}\n",
    "f_{12}+f_{16}=p_{1} & f_{12}+f_{32}=110 \\\\\n",
    "f_{32}+f_{34}=p_{2} & f_{34}+f_{5 4}=65 \\\\\n",
    "f_{5 6}+f_{54}=p_{3} & f_{16}+f_{56}=95\n",
    "\\end{array}\n",
    "\n",
    "- Branch flow and nodal potential\n",
    "\n",
    "\\begin{aligned}\n",
    "&f_{12}=11.6\\left(\\theta_{1}-\\theta_{2}\\right) \\\\\n",
    "&f_{16}=10.5\\left(\\theta_{1}-\\theta_{6}\\right) \\\\\n",
    "&f_{32}=5.9\\left(\\theta_{3}-\\theta_{2}\\right) \\\\\n",
    "&f_{34}=13.7\\left(\\theta_{3}-\\theta_{4}\\right) \\\\\n",
    "&f_{5 6}=5.6\\left(\\theta_{5}-\\theta_{6}\\right) \\\\\n",
    "&f_{54}=9.8\\left(\\theta_{5}-\\theta_{4}\\right)\n",
    "\\end{aligned}\n",
    "\n",
    "- Flow limit constraints\n",
    "\n",
    "\\begin{aligned}\n",
    "-100 \\leq &f_{12} \\leq 100 \\\\\n",
    "-40 \\leq &f_{16} \\leq 40 \\\\\n",
    "-110 \\leq &f_{32}  \\leq 110 \\\\\n",
    "-50 \\leq &f_{34}  \\leq 50 \\\\\n",
    "-60 \\leq &f_{56}  \\leq 60 \\\\\n",
    "-80 \\leq &f_{54} \\leq 80\n",
    "\\end{aligned}\n",
    "\n",
    "- Generator physical limit constraints\n",
    "\n",
    "\\begin{aligned}\n",
    "&20 \\leq p_{1} \\leq 200 \\\\\n",
    "&20 \\leq p_{2} \\leq 150 \\\\\n",
    "&10 \\leq P_{3} \\leq 150\n",
    "\\end{aligned}"
   ]
  },
  {
   "cell_type": "markdown",
   "metadata": {
    "pycharm": {
     "name": "#%% md\n"
    }
   },
   "source": [
    "### Q4.b Solution"
   ]
  },
  {
   "cell_type": "code",
   "execution_count": 48,
   "metadata": {
    "pycharm": {
     "name": "#%%\n"
    }
   },
   "outputs": [],
   "source": [
    "import cvxpy as cp\n",
    "\n",
    "# Define variables\n",
    "p1, p2, p3 = cp.Variable(), cp.Variable(), cp.Variable()\n",
    "\n",
    "f12, f16, f32, f34, f56, f54 = cp.Variable(), cp.Variable(), cp.Variable(), \\\n",
    "                               cp.Variable(), cp.Variable(), cp.Variable()\n",
    "\n",
    "theta1, theta2, theta3, theta4, theta5, theta6 = cp.Variable(), cp.Variable(), \\\n",
    "                                                 cp.Variable(), cp.Variable(), \\\n",
    "                                                 cp.Variable(), cp.Variable()\n",
    "\n",
    "# Objective function\n",
    "obj = cp.Minimize(10 * p1 + 20 * p2 + 8 * p3)\n",
    "\n",
    "constraints = [\n",
    "    # Flow Constraints (Generators)\n",
    "    f12 + f16 == p1,\n",
    "    f32 + f34 == p2,\n",
    "    f56 + f54 == p3,\n",
    "    # Flow Constraints (Demand)\n",
    "    f12 + f32 == 110,\n",
    "    f34 + f54 == 65,\n",
    "    f16 + f56 == 95,\n",
    "    # Branch flow and nodal potential constraints\n",
    "    f12 == 11.6 * (theta1 - theta2),\n",
    "    f16 == 10.5 * (theta1 - theta6),\n",
    "    f32 == 5.9 * (theta3 - theta2),\n",
    "    f34 == 13.7 * (theta3 - theta4),\n",
    "    f56 == 5.6 * (theta5 - theta6),\n",
    "    f54 == 9.8 * (theta5 - theta4),\n",
    "    # Flow limit constraints\n",
    "    -100 <= f12, f12 <= 100,\n",
    "    -40 <= f16, f16 <= 40,\n",
    "    -110 <= f32, f32 <= 110,\n",
    "    -50 <= f34, f34 <= 50,\n",
    "    -60 <= f56, f56 <= 60,\n",
    "    -80 <= f54, f54 <= 80,\n",
    "    # Generator physical limita constraints\n",
    "    20 <= p1, p1 <= 200,\n",
    "    20 <= p2, p2 <= 150,\n",
    "    10 <= p3, p3 <= 150,\n",
    "]\n",
    "\n",
    "# Problem definition\n",
    "prob = cp.Problem(obj, constraints)\n",
    "\n",
    "# Little helper method to get the variable values rounded to two decimals\n",
    "def r(x):\n",
    "    return round(float(x.value), 2)"
   ]
  },
  {
   "cell_type": "code",
   "execution_count": 49,
   "metadata": {
    "pycharm": {
     "name": "#%% Solve the problem\n"
    }
   },
   "outputs": [
    {
     "name": "stdout",
     "output_type": "stream",
     "text": [
      "Optimal value:  2626\n",
      "----------------------------------\n",
      "\n",
      "Variable results:\n",
      "\n",
      "p1: 113.12, p2: 20.0, p3: 136.88\n",
      "f12: 78.12, f16: 35.0, f32: 31.88, f34: -11.88, f54: 76.88, f56: 60.0\n",
      "theta1: 0.92, theta2: -5.81, theta3: -0.41, theta4: 0.46, theta5: 8.3, theta6: -2.41\n"
     ]
    }
   ],
   "source": [
    "print(\"Optimal value: \", round(prob.solve()))\n",
    "print(\"----------------------------------\\n\")\n",
    "print(f\"Variable results:\\n\")\n",
    "print(f\"p1: {r(p1)}, p2: {r(p2)}, p3: {r(p3)}\")\n",
    "print(f\"f12: {r(f12)}, f16: {r(f16)}, f32: {r(f32)}, \"\n",
    "      f\"f34: {r(f34)}, f54: {r(f54)}, f56: {r(f56)}\")\n",
    "print(f\"theta1: {r(theta1)}, theta2: {r(theta2)}, theta3: {r(theta3)}, \"\n",
    "      f\"theta4: {r(theta4)}, theta5: {r(theta5)}, theta6: {r(theta6)}\")"
   ]
  },
  {
   "cell_type": "markdown",
   "metadata": {
    "pycharm": {
     "name": "#%% md\n"
    }
   },
   "source": [
    "From the output above we can that the **Minimum price value** is **2626**"
   ]
  },
  {
   "cell_type": "markdown",
   "metadata": {
    "pycharm": {
     "name": "#%% md\n"
    }
   },
   "source": [
    "### Q4.c Solution\n",
    "Here we get the duals from the flow constraints in the sinks (consumers). This also\n",
    "represents the Locational Marginal Price. Recall that these come from the fourth to\n",
    "the sixth constraints."
   ]
  },
  {
   "cell_type": "code",
   "execution_count": 50,
   "metadata": {
    "pycharm": {
     "name": "#%%\n"
    }
   },
   "outputs": [
    {
     "name": "stdout",
     "output_type": "stream",
     "text": [
      "Marginal Price Location 2:  9.599719042811598\n",
      "Marginal Price Location 4:  8.473801950978045\n",
      "Marginal Price Location 6:  10.442215155064769\n"
     ]
    }
   ],
   "source": [
    "print(\"Marginal Price Location 2: \", -prob.constraints[3].dual_value)\n",
    "print(\"Marginal Price Location 4: \", -prob.constraints[4].dual_value)\n",
    "print(\"Marginal Price Location 6: \", -prob.constraints[5].dual_value)"
   ]
  },
  {
   "cell_type": "code",
   "execution_count": null,
   "metadata": {
    "pycharm": {
     "name": "#%%\n"
    }
   },
   "outputs": [],
   "source": []
  }
 ],
 "metadata": {
  "kernelspec": {
   "display_name": "Python 3 (ipykernel)",
   "language": "python",
   "name": "python3"
  },
  "language_info": {
   "codemirror_mode": {
    "name": "ipython",
    "version": 3
   },
   "file_extension": ".py",
   "mimetype": "text/x-python",
   "name": "python",
   "nbconvert_exporter": "python",
   "pygments_lexer": "ipython3",
   "version": "3.8.10"
  }
 },
 "nbformat": 4,
 "nbformat_minor": 1
}