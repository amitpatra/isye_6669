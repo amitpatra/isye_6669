{
 "cells": [
  {
   "cell_type": "markdown",
   "metadata": {
    "collapsed": true,
    "pycharm": {
     "name": "#%% md\n"
    }
   },
   "source": [
    "# HW 10"
   ]
  },
  {
   "cell_type": "markdown",
   "metadata": {
    "pycharm": {
     "name": "#%% md\n"
    }
   },
   "source": [
    "## Q1.1\n",
    "\n",
    "\\begin{equation}\n",
    "\\begin{aligned}\n",
    "&\\operatorname{min} x_{1}+x_{2}+x_{3}\\\\\n",
    "&\\operatorname{s.t.}\\left[\\begin{array}{c}\n",
    "10 \\\\\n",
    "0 \\\\\n",
    "0\n",
    "\\end{array}\\right] x_{1}+\\left[\\begin{array}{l}\n",
    "0 \\\\\n",
    "7 \\\\\n",
    "0\n",
    "\\end{array}\\right] x_{2}+\\left[\\begin{array}{l}\n",
    "0 \\\\\n",
    "0 \\\\\n",
    "5\n",
    "\\end{array}\\right] x_{3}=\\left[\\begin{array}{l}\n",
    "15 \\\\\n",
    "30 \\\\\n",
    "20\n",
    "\\end{array}\\right]\\\\\n",
    "&x_{1}, x_{2}, x_{3} \\geqslant 0\\\\\n",
    "&\\bar{x}_{1}=1.5\\\\\n",
    "&\\bar{x}_{2}=4.286\\\\\n",
    "&\\bar{x}_{3}=4\\\\\n",
    "&B=\\left[\\begin{array}{ccc}\n",
    "10 & 0 & 0 \\\\\n",
    "0 & 7 & 0 \\\\\n",
    "0 & 0 & 5\n",
    "\\end{array}\\right] \\quad c_{B}=\\left[\\begin{array}{l}\n",
    "1 \\\\\n",
    "1 \\\\\n",
    "1\n",
    "\\end{array}\\right]\\\\\n",
    "&B^{-1}=\\left[\\begin{array}{ccc}\n",
    "1 / 10 & 0 & 0 \\\\\n",
    "0 & 1 / 7 & 0 \\\\\n",
    "0 & 0 & 1 / 5\n",
    "\\end{array}\\right]\\\\\n",
    "&\\hat{y}^\\top=c_{B}^{\\top} B^{-1}=[1 / 10,1 / 7,1 / 5]\n",
    "\\end{aligned}\n",
    "\\end{equation}"
   ]
  },
  {
   "cell_type": "markdown",
   "metadata": {
    "pycharm": {
     "name": "#%% md\n"
    }
   },
   "source": [
    "## Q1.2"
   ]
  },
  {
   "cell_type": "code",
   "execution_count": 27,
   "metadata": {
    "pycharm": {
     "name": "#%%\n"
    }
   },
   "outputs": [
    {
     "name": "stdout",
     "output_type": "stream",
     "text": [
      "Optimal solution x:\n",
      "-----------------------------\n"
     ]
    },
    {
     "data": {
      "text/markdown": [
       "\\begin{bmatrix}\n",
       "  1.50 &  4.29 &  4.00\n",
       "\\end{bmatrix}"
      ],
      "text/plain": [
       "<IPython.core.display.Markdown object>"
      ]
     },
     "metadata": {},
     "output_type": "display_data"
    },
    {
     "name": "stdout",
     "output_type": "stream",
     "text": [
      "Optimal basis B:\n",
      "-----------------------------\n"
     ]
    },
    {
     "data": {
      "text/markdown": [
       "\\begin{bmatrix}\n",
       "  10.00 &  0.00 &  0.00\\\\\n",
       "  0.00 &  7.00 &  0.00\\\\\n",
       "  0.00 &  0.00 &  5.00\n",
       "\\end{bmatrix}"
      ],
      "text/plain": [
       "<IPython.core.display.Markdown object>"
      ]
     },
     "metadata": {},
     "output_type": "display_data"
    },
    {
     "name": "stdout",
     "output_type": "stream",
     "text": [
      "Optimal basis inverse B^-1:\n",
      "-----------------------------\n"
     ]
    },
    {
     "data": {
      "text/markdown": [
       "\\begin{bmatrix}\n",
       "  0.10 &  0.00 &  0.00\\\\\n",
       "  0.00 &  0.14 &  0.00\\\\\n",
       "  0.00 &  0.00 &  0.20\n",
       "\\end{bmatrix}"
      ],
      "text/plain": [
       "<IPython.core.display.Markdown object>"
      ]
     },
     "metadata": {},
     "output_type": "display_data"
    },
    {
     "name": "stdout",
     "output_type": "stream",
     "text": [
      "Optimal dual solution y_hat:\n",
      "-----------------------------\n"
     ]
    },
    {
     "data": {
      "text/markdown": [
       "\\begin{bmatrix}\n",
       "  0.10 &  0.14 &  0.20\n",
       "\\end{bmatrix}"
      ],
      "text/plain": [
       "<IPython.core.display.Markdown object>"
      ]
     },
     "metadata": {},
     "output_type": "display_data"
    }
   ],
   "source": [
    "import cvxpy as cp\n",
    "import numpy as np\n",
    "import array_to_latex as a2l\n",
    "from IPython.display import display, Markdown\n",
    "\n",
    "n = 3\n",
    "x = cp.Variable(n)\n",
    "b = np.array([15, 30, 20])\n",
    "cb = np.array([1, 1, 1])\n",
    "A = np.array([\n",
    "    [10, 0, 0],\n",
    "    [0, 7, 0],\n",
    "    [0, 0, 5]\n",
    "])\n",
    "\n",
    "prob = cp.Problem(\n",
    "    cp.Minimize(cb.T @ x),\n",
    "    [\n",
    "        A @ x == b,\n",
    "        x >= np.zeros(n)\n",
    "    ]\n",
    ")\n",
    "\n",
    "prob.solve()\n",
    "\n",
    "y_hat = cb.T @ np.linalg.inv(A)\n",
    "x_bar = x.value\n",
    "\n",
    "print(\"Optimal solution x:\")\n",
    "print(\"-----------------------------\")\n",
    "display(Markdown(a2l.to_ltx(x.value, print_out=False)))\n",
    "\n",
    "print(\"Optimal basis B:\")\n",
    "print(\"-----------------------------\")\n",
    "display(Markdown(a2l.to_ltx(A, print_out=False)))\n",
    "\n",
    "print(\"Optimal basis inverse B^-1:\")\n",
    "print(\"-----------------------------\")\n",
    "display(Markdown(a2l.to_ltx(np.linalg.inv(A), print_out=False)))\n",
    "\n",
    "print(\"Optimal dual solution y_hat:\")\n",
    "print(\"-----------------------------\")\n",
    "display(Markdown(a2l.to_ltx(y_hat, print_out=False)))"
   ]
  },
  {
   "cell_type": "markdown",
   "metadata": {
    "pycharm": {
     "name": "#%% md\n"
    }
   },
   "source": [
    "## Q1.3\n",
    "\n",
    "The knapsack problem:\n",
    "\n",
    "\\begin{equation}\n",
    "\\begin{aligned}\n",
    "\\hat{Z}=& \\max \\frac{1}{10}a_{1}+\\frac{1}{7}a_{2}+\\frac{1}{5}a_{3} \\\\\n",
    "& \\text { s.t. } 7 a_{1}+11 a_{2}+16 a_{3} \\leq 80 \\\\\n",
    "& a_{1}, a_{2}, a_{3} \\geq 0, \\text { integers }\n",
    "\\end{aligned}\n",
    "\\end{equation}"
   ]
  },
  {
   "cell_type": "markdown",
   "metadata": {
    "pycharm": {
     "name": "#%% md\n"
    }
   },
   "source": [
    "## Q1.4"
   ]
  },
  {
   "cell_type": "code",
   "execution_count": 28,
   "metadata": {
    "pycharm": {
     "name": "#%%\n"
    }
   },
   "outputs": [
    {
     "name": "stdout",
     "output_type": "stream",
     "text": [
      "Z_hat = 1.1\n",
      "The minimum reduced cost is negative and equal to -0.1\n",
      "The new generated pattern is:\n"
     ]
    },
    {
     "data": {
      "text/markdown": [
       "\\begin{bmatrix}\n",
       "  11.00 &  0.00 &  0.00\n",
       "\\end{bmatrix}"
      ],
      "text/plain": [
       "<IPython.core.display.Markdown object>"
      ]
     },
     "metadata": {},
     "output_type": "display_data"
    }
   ],
   "source": [
    "a = cp.Variable(n, integer=True)\n",
    "w = np.array([7, 11, 16])\n",
    "W = 80\n",
    "\n",
    "prob_cost = cp.Problem(\n",
    "    cp.Maximize(y_hat.T @ a),\n",
    "    [\n",
    "        w.T @ a <= W,\n",
    "        a >= np.zeros(n)\n",
    "    ]\n",
    ")\n",
    "\n",
    "prob_cost.solve()\n",
    "new_pattern = a.value\n",
    "Z_hat = round(prob_cost.value, 2)\n",
    "print(f\"Z_hat = {round(Z_hat, 2)}\")\n",
    "print(f\"The minimum reduced cost is negative and equal to {round(1 - Z_hat, 2)}\")\n",
    "print(\"The new generated pattern is:\")\n",
    "display(Markdown(a2l.to_ltx(new_pattern, print_out=False)))"
   ]
  },
  {
   "cell_type": "markdown",
   "metadata": {
    "pycharm": {
     "name": "#%% md\n"
    }
   },
   "source": [
    "## Q1.5\n",
    "\n",
    "In this part, I need to create a function with the column generation algorithm. I will\n",
    "print the previous solution but the algorithm should go all the way up to the optimal."
   ]
  },
  {
   "cell_type": "code",
   "execution_count": 29,
   "metadata": {
    "pycharm": {
     "name": "#%%\n"
    }
   },
   "outputs": [],
   "source": [
    "from math import isclose\n",
    "\n",
    "def cutting_stock(roll_width: float,\n",
    "                  width_types: np.ndarray,\n",
    "                  quantities: np.ndarray,\n",
    "                  initial_pattern: np.ndarray):\n",
    "    a_tol = 1e-5\n",
    "    sep = \"-----------------------------\"\n",
    "    Z_hat = 10\n",
    "    i = 0\n",
    "    A = initial_pattern\n",
    "    while not isclose(1 - Z_hat, 0.0, abs_tol=a_tol):\n",
    "        # Print current iteration\n",
    "        i += 1\n",
    "        print(f\"Iteration {i}\")\n",
    "        print(sep)\n",
    "        # Solve the RMP\n",
    "        # Get the number of variables from the columns in the basis\n",
    "        n = A.shape[1]\n",
    "        x = cp.Variable(n)\n",
    "        cb = np.ones(n)\n",
    "\n",
    "        prob = cp.Problem(\n",
    "            cp.Minimize(cb.T @ x),\n",
    "            [\n",
    "                A @ x == b,\n",
    "                x >= np.zeros(n)\n",
    "            ]\n",
    "        )\n",
    "\n",
    "        prob.solve()\n",
    "        x_bar = x.value\n",
    "        sols_nonzero = ~np.isclose(x_bar, np.zeros(n), atol=a_tol)\n",
    "        # Getting the optimal basis based on the non-zero solutions\n",
    "        B = A[:, sols_nonzero]\n",
    "        B_inv = np.linalg.inv(B)\n",
    "        y_hat = np.ones(B.shape[0]).T @ B_inv\n",
    "\n",
    "        # Print required iteration information\n",
    "        print(\"Optimal solution x:\")\n",
    "        print(sep)\n",
    "        display(Markdown(a2l.to_ltx(x_bar, print_out=False)))\n",
    "\n",
    "        print(\"Optimal basis B:\")\n",
    "        print(sep)\n",
    "        display(Markdown(a2l.to_ltx(B, print_out=False)))\n",
    "\n",
    "        print(\"Optimal basis inverse B^-1:\")\n",
    "        print(sep)\n",
    "        display(Markdown(a2l.to_ltx(B_inv, print_out=False)))\n",
    "\n",
    "        print(\"Optimal dual solution y_hat:\")\n",
    "        print(sep)\n",
    "        display(Markdown(a2l.to_ltx(y_hat, print_out=False)))\n",
    "\n",
    "        # Solving the pricing problem\n",
    "        n_pricing = len(quantities)\n",
    "        a = cp.Variable(n_pricing, integer=True)\n",
    "        w = width_types\n",
    "        W = roll_width\n",
    "\n",
    "        prob_cost = cp.Problem(\n",
    "            cp.Maximize(y_hat.T @ a),\n",
    "            [\n",
    "                w.T @ a <= W,\n",
    "                a >= np.zeros(n_pricing)\n",
    "            ]\n",
    "        )\n",
    "\n",
    "        prob_cost.solve()\n",
    "\n",
    "        new_pattern = a.value\n",
    "        Z_hat = prob_cost.value\n",
    "        print(f\"Z_hat = {round(Z_hat, 2)}\")\n",
    "        if 1 - Z_hat < 0:\n",
    "            print(f\"The minimum reduced cost is negative and equal to \"\n",
    "                  f\"{round(1 - Z_hat, 2)}\")\n",
    "            print(\"The new generated pattern is:\")\n",
    "            display(Markdown(a2l.to_ltx(new_pattern, print_out=False)))\n",
    "            print(sep)\n",
    "            print(sep)\n",
    "            print(sep)\n",
    "            # Add the new pattern to the list\n",
    "            A = np.c_[A, new_pattern]\n",
    "        else:\n",
    "            print(f\"The minimum reduced cost is non-negative and equal to \"\n",
    "                  f\"{round(1 - Z_hat, 2)}\")\n",
    "            print(\"The column generation algorithm has finished\")\n",
    "\n",
    "    print(\"Finished\")\n",
    "\n",
    "    return x_bar, B, A"
   ]
  },
  {
   "cell_type": "code",
   "execution_count": 30,
   "metadata": {
    "pycharm": {
     "name": "#%%\n"
    },
    "scrolled": false
   },
   "outputs": [
    {
     "name": "stdout",
     "output_type": "stream",
     "text": [
      "Iteration 1\n",
      "-----------------------------\n",
      "Optimal solution x:\n",
      "-----------------------------\n"
     ]
    },
    {
     "data": {
      "text/markdown": [
       "\\begin{bmatrix}\n",
       "  1.50 &  4.29 &  4.00\n",
       "\\end{bmatrix}"
      ],
      "text/plain": [
       "<IPython.core.display.Markdown object>"
      ]
     },
     "metadata": {},
     "output_type": "display_data"
    },
    {
     "name": "stdout",
     "output_type": "stream",
     "text": [
      "Optimal basis B:\n",
      "-----------------------------\n"
     ]
    },
    {
     "data": {
      "text/markdown": [
       "\\begin{bmatrix}\n",
       "  10.00 &  0.00 &  0.00\\\\\n",
       "  0.00 &  7.00 &  0.00\\\\\n",
       "  0.00 &  0.00 &  5.00\n",
       "\\end{bmatrix}"
      ],
      "text/plain": [
       "<IPython.core.display.Markdown object>"
      ]
     },
     "metadata": {},
     "output_type": "display_data"
    },
    {
     "name": "stdout",
     "output_type": "stream",
     "text": [
      "Optimal basis inverse B^-1:\n",
      "-----------------------------\n"
     ]
    },
    {
     "data": {
      "text/markdown": [
       "\\begin{bmatrix}\n",
       "  0.10 &  0.00 &  0.00\\\\\n",
       "  0.00 &  0.14 &  0.00\\\\\n",
       "  0.00 &  0.00 &  0.20\n",
       "\\end{bmatrix}"
      ],
      "text/plain": [
       "<IPython.core.display.Markdown object>"
      ]
     },
     "metadata": {},
     "output_type": "display_data"
    },
    {
     "name": "stdout",
     "output_type": "stream",
     "text": [
      "Optimal dual solution y_hat:\n",
      "-----------------------------\n"
     ]
    },
    {
     "data": {
      "text/markdown": [
       "\\begin{bmatrix}\n",
       "  0.10 &  0.14 &  0.20\n",
       "\\end{bmatrix}"
      ],
      "text/plain": [
       "<IPython.core.display.Markdown object>"
      ]
     },
     "metadata": {},
     "output_type": "display_data"
    },
    {
     "name": "stdout",
     "output_type": "stream",
     "text": [
      "Z_hat = 1.1\n",
      "The minimum reduced cost is negative and equal to -0.1\n",
      "The new generated pattern is:\n"
     ]
    },
    {
     "data": {
      "text/markdown": [
       "\\begin{bmatrix}\n",
       "  11.00 &  0.00 &  0.00\n",
       "\\end{bmatrix}"
      ],
      "text/plain": [
       "<IPython.core.display.Markdown object>"
      ]
     },
     "metadata": {},
     "output_type": "display_data"
    },
    {
     "name": "stdout",
     "output_type": "stream",
     "text": [
      "-----------------------------\n",
      "-----------------------------\n",
      "-----------------------------\n",
      "Iteration 2\n",
      "-----------------------------\n",
      "Optimal solution x:\n",
      "-----------------------------\n"
     ]
    },
    {
     "data": {
      "text/markdown": [
       "\\begin{bmatrix}\n",
       "  0.00 &  4.29 &  4.00 &  1.36\n",
       "\\end{bmatrix}"
      ],
      "text/plain": [
       "<IPython.core.display.Markdown object>"
      ]
     },
     "metadata": {},
     "output_type": "display_data"
    },
    {
     "name": "stdout",
     "output_type": "stream",
     "text": [
      "Optimal basis B:\n",
      "-----------------------------\n"
     ]
    },
    {
     "data": {
      "text/markdown": [
       "\\begin{bmatrix}\n",
       "  0.00 &  0.00 &  11.00\\\\\n",
       "  7.00 &  0.00 &  0.00\\\\\n",
       "  0.00 &  5.00 &  0.00\n",
       "\\end{bmatrix}"
      ],
      "text/plain": [
       "<IPython.core.display.Markdown object>"
      ]
     },
     "metadata": {},
     "output_type": "display_data"
    },
    {
     "name": "stdout",
     "output_type": "stream",
     "text": [
      "Optimal basis inverse B^-1:\n",
      "-----------------------------\n"
     ]
    },
    {
     "data": {
      "text/markdown": [
       "\\begin{bmatrix}\n",
       "  0.00 &  0.14 &  0.00\\\\\n",
       "  0.00 &  0.00 &  0.20\\\\\n",
       "  0.09 &  0.00 &  0.00\n",
       "\\end{bmatrix}"
      ],
      "text/plain": [
       "<IPython.core.display.Markdown object>"
      ]
     },
     "metadata": {},
     "output_type": "display_data"
    },
    {
     "name": "stdout",
     "output_type": "stream",
     "text": [
      "Optimal dual solution y_hat:\n",
      "-----------------------------\n"
     ]
    },
    {
     "data": {
      "text/markdown": [
       "\\begin{bmatrix}\n",
       "  0.09 &  0.14 &  0.20\n",
       "\\end{bmatrix}"
      ],
      "text/plain": [
       "<IPython.core.display.Markdown object>"
      ]
     },
     "metadata": {},
     "output_type": "display_data"
    },
    {
     "name": "stdout",
     "output_type": "stream",
     "text": [
      "Z_hat = 1.04\n",
      "The minimum reduced cost is negative and equal to -0.04\n",
      "The new generated pattern is:\n"
     ]
    },
    {
     "data": {
      "text/markdown": [
       "\\begin{bmatrix}\n",
       "  2.00 &  6.00 &  0.00\n",
       "\\end{bmatrix}"
      ],
      "text/plain": [
       "<IPython.core.display.Markdown object>"
      ]
     },
     "metadata": {},
     "output_type": "display_data"
    },
    {
     "name": "stdout",
     "output_type": "stream",
     "text": [
      "-----------------------------\n",
      "-----------------------------\n",
      "-----------------------------\n",
      "Iteration 3\n",
      "-----------------------------\n",
      "Optimal solution x:\n",
      "-----------------------------\n"
     ]
    },
    {
     "data": {
      "text/markdown": [
       "\\begin{bmatrix}\n",
       "  0.00 &  0.00 &  4.00 &  0.45 &  5.00\n",
       "\\end{bmatrix}"
      ],
      "text/plain": [
       "<IPython.core.display.Markdown object>"
      ]
     },
     "metadata": {},
     "output_type": "display_data"
    },
    {
     "name": "stdout",
     "output_type": "stream",
     "text": [
      "Optimal basis B:\n",
      "-----------------------------\n"
     ]
    },
    {
     "data": {
      "text/markdown": [
       "\\begin{bmatrix}\n",
       "  0.00 &  11.00 &  2.00\\\\\n",
       "  0.00 &  0.00 &  6.00\\\\\n",
       "  5.00 &  0.00 &  0.00\n",
       "\\end{bmatrix}"
      ],
      "text/plain": [
       "<IPython.core.display.Markdown object>"
      ]
     },
     "metadata": {},
     "output_type": "display_data"
    },
    {
     "name": "stdout",
     "output_type": "stream",
     "text": [
      "Optimal basis inverse B^-1:\n",
      "-----------------------------\n"
     ]
    },
    {
     "data": {
      "text/markdown": [
       "\\begin{bmatrix}\n",
       "  0.00 &  0.00 &  0.20\\\\\n",
       "  0.09 & -0.03 &  0.00\\\\\n",
       "  0.00 &  0.17 &  0.00\n",
       "\\end{bmatrix}"
      ],
      "text/plain": [
       "<IPython.core.display.Markdown object>"
      ]
     },
     "metadata": {},
     "output_type": "display_data"
    },
    {
     "name": "stdout",
     "output_type": "stream",
     "text": [
      "Optimal dual solution y_hat:\n",
      "-----------------------------\n"
     ]
    },
    {
     "data": {
      "text/markdown": [
       "\\begin{bmatrix}\n",
       "  0.09 &  0.14 &  0.20\n",
       "\\end{bmatrix}"
      ],
      "text/plain": [
       "<IPython.core.display.Markdown object>"
      ]
     },
     "metadata": {},
     "output_type": "display_data"
    },
    {
     "name": "stdout",
     "output_type": "stream",
     "text": [
      "Z_hat = 1.02\n",
      "The minimum reduced cost is negative and equal to -0.02\n",
      "The new generated pattern is:\n"
     ]
    },
    {
     "data": {
      "text/markdown": [
       "\\begin{bmatrix}\n",
       "  9.00 &  0.00 &  1.00\n",
       "\\end{bmatrix}"
      ],
      "text/plain": [
       "<IPython.core.display.Markdown object>"
      ]
     },
     "metadata": {},
     "output_type": "display_data"
    },
    {
     "name": "stdout",
     "output_type": "stream",
     "text": [
      "-----------------------------\n",
      "-----------------------------\n",
      "-----------------------------\n",
      "Iteration 4\n",
      "-----------------------------\n",
      "Optimal solution x:\n",
      "-----------------------------\n"
     ]
    },
    {
     "data": {
      "text/markdown": [
       "\\begin{bmatrix}\n",
       "  0.00 &  0.00 &  3.89 &  0.00 &  5.00 &  0.56\n",
       "\\end{bmatrix}"
      ],
      "text/plain": [
       "<IPython.core.display.Markdown object>"
      ]
     },
     "metadata": {},
     "output_type": "display_data"
    },
    {
     "name": "stdout",
     "output_type": "stream",
     "text": [
      "Optimal basis B:\n",
      "-----------------------------\n"
     ]
    },
    {
     "data": {
      "text/markdown": [
       "\\begin{bmatrix}\n",
       "  0.00 &  2.00 &  9.00\\\\\n",
       "  0.00 &  6.00 &  0.00\\\\\n",
       "  5.00 &  0.00 &  1.00\n",
       "\\end{bmatrix}"
      ],
      "text/plain": [
       "<IPython.core.display.Markdown object>"
      ]
     },
     "metadata": {},
     "output_type": "display_data"
    },
    {
     "name": "stdout",
     "output_type": "stream",
     "text": [
      "Optimal basis inverse B^-1:\n",
      "-----------------------------\n"
     ]
    },
    {
     "data": {
      "text/markdown": [
       "\\begin{bmatrix}\n",
       " -0.02 &  0.01 &  0.20\\\\\n",
       "  0.00 &  0.17 &  0.00\\\\\n",
       "  0.11 & -0.04 &  0.00\n",
       "\\end{bmatrix}"
      ],
      "text/plain": [
       "<IPython.core.display.Markdown object>"
      ]
     },
     "metadata": {},
     "output_type": "display_data"
    },
    {
     "name": "stdout",
     "output_type": "stream",
     "text": [
      "Optimal dual solution y_hat:\n",
      "-----------------------------\n"
     ]
    },
    {
     "data": {
      "text/markdown": [
       "\\begin{bmatrix}\n",
       "  0.09 &  0.14 &  0.20\n",
       "\\end{bmatrix}"
      ],
      "text/plain": [
       "<IPython.core.display.Markdown object>"
      ]
     },
     "metadata": {},
     "output_type": "display_data"
    },
    {
     "name": "stdout",
     "output_type": "stream",
     "text": [
      "Z_hat = 1.01\n",
      "The minimum reduced cost is negative and equal to -0.01\n",
      "The new generated pattern is:\n"
     ]
    },
    {
     "data": {
      "text/markdown": [
       "\\begin{bmatrix}\n",
       "  6.00 &  2.00 &  1.00\n",
       "\\end{bmatrix}"
      ],
      "text/plain": [
       "<IPython.core.display.Markdown object>"
      ]
     },
     "metadata": {},
     "output_type": "display_data"
    },
    {
     "name": "stdout",
     "output_type": "stream",
     "text": [
      "-----------------------------\n",
      "-----------------------------\n",
      "-----------------------------\n",
      "Iteration 5\n",
      "-----------------------------\n",
      "Optimal solution x:\n",
      "-----------------------------\n"
     ]
    },
    {
     "data": {
      "text/markdown": [
       "\\begin{bmatrix}\n",
       "  0.00 &  0.00 &  3.81 &  0.00 &  4.69 &  0.00 &  0.94\n",
       "\\end{bmatrix}"
      ],
      "text/plain": [
       "<IPython.core.display.Markdown object>"
      ]
     },
     "metadata": {},
     "output_type": "display_data"
    },
    {
     "name": "stdout",
     "output_type": "stream",
     "text": [
      "Optimal basis B:\n",
      "-----------------------------\n"
     ]
    },
    {
     "data": {
      "text/markdown": [
       "\\begin{bmatrix}\n",
       "  0.00 &  2.00 &  6.00\\\\\n",
       "  0.00 &  6.00 &  2.00\\\\\n",
       "  5.00 &  0.00 &  1.00\n",
       "\\end{bmatrix}"
      ],
      "text/plain": [
       "<IPython.core.display.Markdown object>"
      ]
     },
     "metadata": {},
     "output_type": "display_data"
    },
    {
     "name": "stdout",
     "output_type": "stream",
     "text": [
      "Optimal basis inverse B^-1:\n",
      "-----------------------------\n"
     ]
    },
    {
     "data": {
      "text/markdown": [
       "\\begin{bmatrix}\n",
       " -0.04 &  0.01 &  0.20\\\\\n",
       " -0.06 &  0.19 &  0.00\\\\\n",
       "  0.19 & -0.06 &  0.00\n",
       "\\end{bmatrix}"
      ],
      "text/plain": [
       "<IPython.core.display.Markdown object>"
      ]
     },
     "metadata": {},
     "output_type": "display_data"
    },
    {
     "name": "stdout",
     "output_type": "stream",
     "text": [
      "Optimal dual solution y_hat:\n",
      "-----------------------------\n"
     ]
    },
    {
     "data": {
      "text/markdown": [
       "\\begin{bmatrix}\n",
       "  0.09 &  0.14 &  0.20\n",
       "\\end{bmatrix}"
      ],
      "text/plain": [
       "<IPython.core.display.Markdown object>"
      ]
     },
     "metadata": {},
     "output_type": "display_data"
    },
    {
     "name": "stdout",
     "output_type": "stream",
     "text": [
      "Z_hat = 1.0\n",
      "The minimum reduced cost is non-negative and equal to 0.0\n",
      "The column generation algorithm has finished\n",
      "Finished\n"
     ]
    }
   ],
   "source": [
    "w = np.array([7, 11, 16])  # Types of width\n",
    "b = np.array([15, 30, 20])  # The quantities of the width types\n",
    "W = 80  # The width of the big roll\n",
    "# The start point\n",
    "A = np.array([\n",
    "    [10, 0, 0],\n",
    "    [0, 7, 0],\n",
    "    [0, 0, 5]\n",
    "])\n",
    "x_opt, B_opt, A_opt = cutting_stock(W, w, b, A)"
   ]
  },
  {
   "cell_type": "markdown",
   "metadata": {
    "pycharm": {
     "name": "#%% md\n"
    }
   },
   "source": [
    "# Q1.6 - Solution explanation\n",
    "In the previous step the algorithm took 5 iterations to solve the problem."
   ]
  },
  {
   "cell_type": "code",
   "execution_count": 31,
   "metadata": {
    "pycharm": {
     "name": "#%%\n"
    }
   },
   "outputs": [
    {
     "data": {
      "text/markdown": [
       "The optimal solution is \n",
       " \\begin{bmatrix}\n",
       "  0.00 &  0.00 &  3.81 &  0.00 &  4.69 &  0.00 &  0.94\n",
       "\\end{bmatrix}"
      ],
      "text/plain": [
       "<IPython.core.display.Markdown object>"
      ]
     },
     "metadata": {},
     "output_type": "display_data"
    },
    {
     "data": {
      "text/markdown": [
       "The patterns constraints were \n",
       " \\begin{bmatrix}\n",
       "  10.00 &  0.00 &  0.00 &  11.00 &  2.00 &  9.00 &  6.00\\\\\n",
       "  0.00 &  7.00 &  0.00 &  0.00 &  6.00 &  0.00 &  2.00\\\\\n",
       "  0.00 &  0.00 &  5.00 &  0.00 &  0.00 &  1.00 &  1.00\n",
       "\\end{bmatrix}"
      ],
      "text/plain": [
       "<IPython.core.display.Markdown object>"
      ]
     },
     "metadata": {},
     "output_type": "display_data"
    },
    {
     "data": {
      "text/markdown": [
       "From which the optimal basis is \n",
       " \\begin{bmatrix}\n",
       "  0.00 &  2.00 &  6.00\\\\\n",
       "  0.00 &  6.00 &  2.00\\\\\n",
       "  5.00 &  0.00 &  1.00\n",
       "\\end{bmatrix}"
      ],
      "text/plain": [
       "<IPython.core.display.Markdown object>"
      ]
     },
     "metadata": {},
     "output_type": "display_data"
    },
    {
     "data": {
      "text/markdown": [
       "The optimal value is <b>9.44</b>"
      ],
      "text/plain": [
       "<IPython.core.display.Markdown object>"
      ]
     },
     "metadata": {},
     "output_type": "display_data"
    }
   ],
   "source": [
    "x_lat = a2l.to_ltx(x_opt, print_out=False)\n",
    "B_lat = a2l.to_ltx(B_opt, print_out=False)\n",
    "A_lat = a2l.to_ltx(A_opt, print_out=False)\n",
    "\n",
    "display(Markdown(f\"The optimal solution is \\n {x_lat}\"))\n",
    "display(Markdown(f\"The patterns constraints were \\n {A_lat}\"))\n",
    "display(Markdown(f\"From which the optimal basis is \\n {B_lat}\"))\n",
    "display(Markdown(f\"The optimal value is <b>{round(sum(x_opt), 2)}</b>\"))"
   ]
  },
  {
   "cell_type": "markdown",
   "metadata": {
    "pycharm": {
     "name": "#%% md\n"
    }
   },
   "source": [
    "The solution means that we need approximately:\n",
    " - 4 units of pattern **[0, 0, 5]** *(5 cuts of 16)* \n",
    " - 5 units of pattern **[2, 6, 0]** *(2 cuts of 7 / 6 cuts of 11)*\n",
    " - 1 unit of pattern **[6, 2, 1]** *(6 cuts of 7 / 2 cuts of 11 / 1 cut of 16)*\n",
    "\n",
    "\n",
    "\n"
   ]
  }
 ],
 "metadata": {
  "kernelspec": {
   "display_name": "Python 3 (ipykernel)",
   "language": "python",
   "name": "python3"
  },
  "language_info": {
   "codemirror_mode": {
    "name": "ipython",
    "version": 3
   },
   "file_extension": ".py",
   "mimetype": "text/x-python",
   "name": "python",
   "nbconvert_exporter": "python",
   "pygments_lexer": "ipython3",
   "version": "3.8.10"
  }
 },
 "nbformat": 4,
 "nbformat_minor": 1
}
