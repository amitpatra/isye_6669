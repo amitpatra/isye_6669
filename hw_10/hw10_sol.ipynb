{
 "cells": [
  {
   "cell_type": "code",
   "execution_count": 2,
   "id": "included-format",
   "metadata": {},
   "outputs": [
    {
     "name": "stdout",
     "output_type": "stream",
     "text": [
      "Note: you may need to restart the kernel to use updated packages.\n"
     ]
    },
    {
     "name": "stderr",
     "output_type": "stream",
     "text": [
      "'C:\\Users\\ujjaw\\anaconda3\\envs\\cvxpy' is not recognized as an internal or external command,\n",
      "operable program or batch file.\n"
     ]
    }
   ],
   "source": [
    "pip install cvxpy"
   ]
  },
  {
   "cell_type": "code",
   "execution_count": 8,
   "id": "fabulous-stack",
   "metadata": {},
   "outputs": [
    {
     "name": "stdout",
     "output_type": "stream",
     "text": [
      "Note: you may need to restart the kernel to use updated packages.\n"
     ]
    },
    {
     "name": "stderr",
     "output_type": "stream",
     "text": [
      "'C:\\Users\\ujjaw\\anaconda3\\envs\\cvxpy' is not recognized as an internal or external command,\n",
      "operable program or batch file.\n"
     ]
    }
   ],
   "source": [
    "pip install numpy"
   ]
  },
  {
   "cell_type": "code",
   "execution_count": 11,
   "id": "subtle-central",
   "metadata": {
    "scrolled": true
   },
   "outputs": [],
   "source": [
    "import numpy as np\n",
    "from scipy import linalg\n",
    "from cvxpy import *\n",
    "import gurobipy"
   ]
  },
  {
   "cell_type": "markdown",
   "id": "unusual-sport",
   "metadata": {},
   "source": [
    "# RMP"
   ]
  },
  {
   "cell_type": "code",
   "execution_count": 12,
   "id": "comparable-marking",
   "metadata": {},
   "outputs": [
    {
     "name": "stderr",
     "output_type": "stream",
     "text": [
      "C:\\Users\\ujjaw\\anaconda3\\envs\\cvxpy -1\\lib\\site-packages\\cvxpy\\expressions\\expression.py:556: UserWarning: \n",
      "This use of ``*`` has resulted in matrix multiplication.\n",
      "Using ``*`` for matrix multiplication has been deprecated since CVXPY 1.1.\n",
      "    Use ``*`` for matrix-scalar and vector-scalar multiplication.\n",
      "    Use ``@`` for matrix-matrix and matrix-vector multiplication.\n",
      "    Use ``multiply`` for elementwise multiplication.\n",
      "This code path has been hit 1 times so far.\n",
      "\n",
      "  warnings.warn(msg, UserWarning)\n",
      "C:\\Users\\ujjaw\\anaconda3\\envs\\cvxpy -1\\lib\\site-packages\\cvxpy\\expressions\\expression.py:556: UserWarning: \n",
      "This use of ``*`` has resulted in matrix multiplication.\n",
      "Using ``*`` for matrix multiplication has been deprecated since CVXPY 1.1.\n",
      "    Use ``*`` for matrix-scalar and vector-scalar multiplication.\n",
      "    Use ``@`` for matrix-matrix and matrix-vector multiplication.\n",
      "    Use ``multiply`` for elementwise multiplication.\n",
      "This code path has been hit 2 times so far.\n",
      "\n",
      "  warnings.warn(msg, UserWarning)\n"
     ]
    },
    {
     "ename": "SolverError",
     "evalue": "The solver GUROBI is not installed.",
     "output_type": "error",
     "traceback": [
      "\u001b[1;31m---------------------------------------------------------------------------\u001b[0m",
      "\u001b[1;31mSolverError\u001b[0m                               Traceback (most recent call last)",
      "\u001b[1;32m<ipython-input-12-de069caec22a>\u001b[0m in \u001b[0;36m<module>\u001b[1;34m\u001b[0m\n\u001b[0;32m     18\u001b[0m \u001b[1;33m\u001b[0m\u001b[0m\n\u001b[0;32m     19\u001b[0m \u001b[0mprob\u001b[0m\u001b[1;33m=\u001b[0m \u001b[0mProblem\u001b[0m\u001b[1;33m(\u001b[0m\u001b[0mMinimize\u001b[0m\u001b[1;33m(\u001b[0m\u001b[0mobj\u001b[0m\u001b[1;33m)\u001b[0m\u001b[1;33m,\u001b[0m \u001b[0mconstr\u001b[0m\u001b[1;33m)\u001b[0m\u001b[1;33m\u001b[0m\u001b[1;33m\u001b[0m\u001b[0m\n\u001b[1;32m---> 20\u001b[1;33m \u001b[0mprob\u001b[0m\u001b[1;33m.\u001b[0m\u001b[0msolve\u001b[0m\u001b[1;33m(\u001b[0m\u001b[0msolver\u001b[0m \u001b[1;33m=\u001b[0m \u001b[0mGUROBI\u001b[0m\u001b[1;33m)\u001b[0m\u001b[1;33m\u001b[0m\u001b[1;33m\u001b[0m\u001b[0m\n\u001b[0m\u001b[0;32m     21\u001b[0m \u001b[1;33m\u001b[0m\u001b[0m\n\u001b[0;32m     22\u001b[0m \u001b[0mprint\u001b[0m\u001b[1;33m(\u001b[0m\u001b[1;34m\"The optimal objective value = \"\u001b[0m\u001b[1;33m,\u001b[0m \u001b[0mobj\u001b[0m\u001b[1;33m.\u001b[0m\u001b[0mvalue\u001b[0m\u001b[1;33m)\u001b[0m\u001b[1;33m\u001b[0m\u001b[1;33m\u001b[0m\u001b[0m\n",
      "\u001b[1;32m~\\anaconda3\\envs\\cvxpy -1\\lib\\site-packages\\cvxpy\\problems\\problem.py\u001b[0m in \u001b[0;36msolve\u001b[1;34m(self, *args, **kwargs)\u001b[0m\n\u001b[0;32m    434\u001b[0m         \u001b[1;32melse\u001b[0m\u001b[1;33m:\u001b[0m\u001b[1;33m\u001b[0m\u001b[1;33m\u001b[0m\u001b[0m\n\u001b[0;32m    435\u001b[0m             \u001b[0msolve_func\u001b[0m \u001b[1;33m=\u001b[0m \u001b[0mProblem\u001b[0m\u001b[1;33m.\u001b[0m\u001b[0m_solve\u001b[0m\u001b[1;33m\u001b[0m\u001b[1;33m\u001b[0m\u001b[0m\n\u001b[1;32m--> 436\u001b[1;33m         \u001b[1;32mreturn\u001b[0m \u001b[0msolve_func\u001b[0m\u001b[1;33m(\u001b[0m\u001b[0mself\u001b[0m\u001b[1;33m,\u001b[0m \u001b[1;33m*\u001b[0m\u001b[0margs\u001b[0m\u001b[1;33m,\u001b[0m \u001b[1;33m**\u001b[0m\u001b[0mkwargs\u001b[0m\u001b[1;33m)\u001b[0m\u001b[1;33m\u001b[0m\u001b[1;33m\u001b[0m\u001b[0m\n\u001b[0m\u001b[0;32m    437\u001b[0m \u001b[1;33m\u001b[0m\u001b[0m\n\u001b[0;32m    438\u001b[0m     \u001b[1;33m@\u001b[0m\u001b[0mclassmethod\u001b[0m\u001b[1;33m\u001b[0m\u001b[1;33m\u001b[0m\u001b[0m\n",
      "\u001b[1;32m~\\anaconda3\\envs\\cvxpy -1\\lib\\site-packages\\cvxpy\\problems\\problem.py\u001b[0m in \u001b[0;36m_solve\u001b[1;34m(self, solver, warm_start, verbose, gp, qcp, requires_grad, enforce_dpp, **kwargs)\u001b[0m\n\u001b[0;32m    917\u001b[0m \u001b[1;33m\u001b[0m\u001b[0m\n\u001b[0;32m    918\u001b[0m         data, solving_chain, inverse_data = self.get_problem_data(\n\u001b[1;32m--> 919\u001b[1;33m             solver, gp, enforce_dpp, verbose)\n\u001b[0m\u001b[0;32m    920\u001b[0m \u001b[1;33m\u001b[0m\u001b[0m\n\u001b[0;32m    921\u001b[0m         \u001b[1;32mif\u001b[0m \u001b[0mverbose\u001b[0m\u001b[1;33m:\u001b[0m\u001b[1;33m\u001b[0m\u001b[1;33m\u001b[0m\u001b[0m\n",
      "\u001b[1;32m~\\anaconda3\\envs\\cvxpy -1\\lib\\site-packages\\cvxpy\\problems\\problem.py\u001b[0m in \u001b[0;36mget_problem_data\u001b[1;34m(self, solver, gp, enforce_dpp, verbose)\u001b[0m\n\u001b[0;32m    541\u001b[0m             \u001b[0mself\u001b[0m\u001b[1;33m.\u001b[0m\u001b[0m_cache\u001b[0m\u001b[1;33m.\u001b[0m\u001b[0minvalidate\u001b[0m\u001b[1;33m(\u001b[0m\u001b[1;33m)\u001b[0m\u001b[1;33m\u001b[0m\u001b[1;33m\u001b[0m\u001b[0m\n\u001b[0;32m    542\u001b[0m             solving_chain = self._construct_chain(\n\u001b[1;32m--> 543\u001b[1;33m                 solver=solver, gp=gp, enforce_dpp=enforce_dpp)\n\u001b[0m\u001b[0;32m    544\u001b[0m             \u001b[0mself\u001b[0m\u001b[1;33m.\u001b[0m\u001b[0m_cache\u001b[0m\u001b[1;33m.\u001b[0m\u001b[0mkey\u001b[0m \u001b[1;33m=\u001b[0m \u001b[0mkey\u001b[0m\u001b[1;33m\u001b[0m\u001b[1;33m\u001b[0m\u001b[0m\n\u001b[0;32m    545\u001b[0m             \u001b[0mself\u001b[0m\u001b[1;33m.\u001b[0m\u001b[0m_cache\u001b[0m\u001b[1;33m.\u001b[0m\u001b[0msolving_chain\u001b[0m \u001b[1;33m=\u001b[0m \u001b[0msolving_chain\u001b[0m\u001b[1;33m\u001b[0m\u001b[1;33m\u001b[0m\u001b[0m\n",
      "\u001b[1;32m~\\anaconda3\\envs\\cvxpy -1\\lib\\site-packages\\cvxpy\\problems\\problem.py\u001b[0m in \u001b[0;36m_construct_chain\u001b[1;34m(self, solver, gp, enforce_dpp)\u001b[0m\n\u001b[0;32m    767\u001b[0m         \u001b[0mA\u001b[0m \u001b[0msolving\u001b[0m \u001b[0mchain\u001b[0m\u001b[1;33m\u001b[0m\u001b[1;33m\u001b[0m\u001b[0m\n\u001b[0;32m    768\u001b[0m         \"\"\"\n\u001b[1;32m--> 769\u001b[1;33m         \u001b[0mcandidate_solvers\u001b[0m \u001b[1;33m=\u001b[0m \u001b[0mself\u001b[0m\u001b[1;33m.\u001b[0m\u001b[0m_find_candidate_solvers\u001b[0m\u001b[1;33m(\u001b[0m\u001b[0msolver\u001b[0m\u001b[1;33m=\u001b[0m\u001b[0msolver\u001b[0m\u001b[1;33m,\u001b[0m \u001b[0mgp\u001b[0m\u001b[1;33m=\u001b[0m\u001b[0mgp\u001b[0m\u001b[1;33m)\u001b[0m\u001b[1;33m\u001b[0m\u001b[1;33m\u001b[0m\u001b[0m\n\u001b[0m\u001b[0;32m    770\u001b[0m         \u001b[0mself\u001b[0m\u001b[1;33m.\u001b[0m\u001b[0m_sort_candidate_solvers\u001b[0m\u001b[1;33m(\u001b[0m\u001b[0mcandidate_solvers\u001b[0m\u001b[1;33m)\u001b[0m\u001b[1;33m\u001b[0m\u001b[1;33m\u001b[0m\u001b[0m\n\u001b[0;32m    771\u001b[0m         return construct_solving_chain(self, candidate_solvers, gp=gp,\n",
      "\u001b[1;32m~\\anaconda3\\envs\\cvxpy -1\\lib\\site-packages\\cvxpy\\problems\\problem.py\u001b[0m in \u001b[0;36m_find_candidate_solvers\u001b[1;34m(self, solver, gp)\u001b[0m\n\u001b[0;32m    652\u001b[0m         \u001b[1;32mif\u001b[0m \u001b[0msolver\u001b[0m \u001b[1;32mis\u001b[0m \u001b[1;32mnot\u001b[0m \u001b[1;32mNone\u001b[0m\u001b[1;33m:\u001b[0m\u001b[1;33m\u001b[0m\u001b[1;33m\u001b[0m\u001b[0m\n\u001b[0;32m    653\u001b[0m             \u001b[1;32mif\u001b[0m \u001b[0msolver\u001b[0m \u001b[1;32mnot\u001b[0m \u001b[1;32min\u001b[0m \u001b[0mslv_def\u001b[0m\u001b[1;33m.\u001b[0m\u001b[0mINSTALLED_SOLVERS\u001b[0m\u001b[1;33m:\u001b[0m\u001b[1;33m\u001b[0m\u001b[1;33m\u001b[0m\u001b[0m\n\u001b[1;32m--> 654\u001b[1;33m                 \u001b[1;32mraise\u001b[0m \u001b[0merror\u001b[0m\u001b[1;33m.\u001b[0m\u001b[0mSolverError\u001b[0m\u001b[1;33m(\u001b[0m\u001b[1;34m\"The solver %s is not installed.\"\u001b[0m \u001b[1;33m%\u001b[0m \u001b[0msolver\u001b[0m\u001b[1;33m)\u001b[0m\u001b[1;33m\u001b[0m\u001b[1;33m\u001b[0m\u001b[0m\n\u001b[0m\u001b[0;32m    655\u001b[0m             \u001b[1;32mif\u001b[0m \u001b[0msolver\u001b[0m \u001b[1;32min\u001b[0m \u001b[0mslv_def\u001b[0m\u001b[1;33m.\u001b[0m\u001b[0mCONIC_SOLVERS\u001b[0m\u001b[1;33m:\u001b[0m\u001b[1;33m\u001b[0m\u001b[1;33m\u001b[0m\u001b[0m\n\u001b[0;32m    656\u001b[0m                 \u001b[0mcandidates\u001b[0m\u001b[1;33m[\u001b[0m\u001b[1;34m'conic_solvers'\u001b[0m\u001b[1;33m]\u001b[0m \u001b[1;33m+=\u001b[0m \u001b[1;33m[\u001b[0m\u001b[0msolver\u001b[0m\u001b[1;33m]\u001b[0m\u001b[1;33m\u001b[0m\u001b[1;33m\u001b[0m\u001b[0m\n",
      "\u001b[1;31mSolverError\u001b[0m: The solver GUROBI is not installed."
     ]
    }
   ],
   "source": [
    "# define variable x's\n",
    "x = Variable(3)\n",
    "\n",
    "# define the objective\n",
    "c = np.ones(3)\n",
    "obj = c.transpose() * x\n",
    "\n",
    "# define the constraints\n",
    "A = np.matrix([\n",
    "    [10, 0, 0],\n",
    "    [0, 7, 0],\n",
    "    [0, 0, 5]]).transpose()\n",
    "b = np.array([15, 30, 20])\n",
    "\n",
    "constr = [ A * x == b,x >= 0]\n",
    "\n",
    "# define and solve the problem\n",
    "\n",
    "prob= Problem(Minimize(obj), constr)\n",
    "prob.solve(solver = GUROBI)\n",
    "\n",
    "print(\"The optimal objective value = \", obj.value)\n",
    "print(\"An optimal solution is \", x.value)\n",
    "\n",
    "# since all variables are nonzero, the basis matrix is A\n",
    "B = A\n",
    "c_B = c\n",
    "\n",
    "# get the dual variables\n",
    "y_hat = c_B.dot(linalg.inv(B))\n",
    "print(\"The dual variables are \", y_hat)"
   ]
  },
  {
   "cell_type": "markdown",
   "id": "annoying-mouse",
   "metadata": {},
   "source": [
    "# Pricing"
   ]
  },
  {
   "cell_type": "code",
   "execution_count": 58,
   "id": "tutorial-corruption",
   "metadata": {},
   "outputs": [
    {
     "name": "stderr",
     "output_type": "stream",
     "text": [
      "C:\\Users\\ujjaw\\anaconda3\\envs\\cvxpy\\lib\\site-packages\\cvxpy\\expressions\\expression.py:550: UserWarning: \n",
      "This use of ``*`` has resulted in matrix multiplication.\n",
      "Using ``*`` for matrix multiplication has been deprecated since CVXPY 1.1.\n",
      "    Use ``*`` for matrix-scalar and vector-scalar multiplication.\n",
      "    Use ``@`` for matrix-matrix and matrix-vector multiplication.\n",
      "    Use ``multiply`` for elementwise multiplication.\n",
      "\n",
      "  warnings.warn(__STAR_MATMUL_WARNING__, UserWarning)\n"
     ]
    },
    {
     "name": "stdout",
     "output_type": "stream",
     "text": [
      "The reduced cost is  -0.10000000000000009\n",
      "The generated column is  [11.  0.  0.]\n"
     ]
    },
    {
     "name": "stderr",
     "output_type": "stream",
     "text": [
      "C:\\Users\\ujjaw\\anaconda3\\envs\\cvxpy\\lib\\site-packages\\cvxpy\\interface\\numpy_interface\\ndarray_interface.py:47: DeprecationWarning: `np.complex` is a deprecated alias for the builtin `complex`. To silence this warning, use `complex` by itself. Doing this will not modify any behavior and is safe. If you specifically wanted the numpy scalar type, use `np.complex128` here.\n",
      "Deprecated in NumPy 1.20; for more details and guidance: https://numpy.org/devdocs/release/1.20.0-notes.html#deprecations\n",
      "  if result.dtype in [numpy.complex, numpy.float64]:\n",
      "C:\\Users\\ujjaw\\anaconda3\\envs\\cvxpy\\lib\\site-packages\\cvxpy\\expressions\\expression.py:550: UserWarning: \n",
      "This use of ``*`` has resulted in matrix multiplication.\n",
      "Using ``*`` for matrix multiplication has been deprecated since CVXPY 1.1.\n",
      "    Use ``*`` for matrix-scalar and vector-scalar multiplication.\n",
      "    Use ``@`` for matrix-matrix and matrix-vector multiplication.\n",
      "    Use ``multiply`` for elementwise multiplication.\n",
      "\n",
      "  warnings.warn(__STAR_MATMUL_WARNING__, UserWarning)\n",
      "C:\\Users\\ujjaw\\anaconda3\\envs\\cvxpy\\lib\\site-packages\\cvxpy\\interface\\numpy_interface\\ndarray_interface.py:47: DeprecationWarning: `np.complex` is a deprecated alias for the builtin `complex`. To silence this warning, use `complex` by itself. Doing this will not modify any behavior and is safe. If you specifically wanted the numpy scalar type, use `np.complex128` here.\n",
      "Deprecated in NumPy 1.20; for more details and guidance: https://numpy.org/devdocs/release/1.20.0-notes.html#deprecations\n",
      "  if result.dtype in [numpy.complex, numpy.float64]:\n",
      "C:\\Users\\ujjaw\\anaconda3\\envs\\cvxpy\\lib\\site-packages\\cvxpy\\reductions\\solvers\\solving_chain.py:341: DeprecationWarning: Deprecated, use Model.addMConstr() instead\n",
      "  solver_opts, problem._solver_cache)\n"
     ]
    }
   ],
   "source": [
    "# get the dual variables from the previous RMP and define the objective function\n",
    "a = Variable(3, integer=True)\n",
    "obj = y_hat * a\n",
    "\n",
    "# set up the constraints for the pricing problem\n",
    "w = np.array([7, 11, 16])\n",
    "W = 80\n",
    "constr = [w * a <= W,a >= 0]\n",
    "\n",
    "# define the problem\n",
    "prob = Problem(Maximize(obj), constr)\n",
    "prob.solve(solver = GUROBI)\n",
    "\n",
    "# check the minimum reduced cost\n",
    "print(\"The reduced cost is \", 1 - obj.value)\n",
    "\n",
    "# since the reduced cost is negative, print out the generated column\n",
    "print(\"The generated column is \", a.value)"
   ]
  },
  {
   "cell_type": "markdown",
   "id": "handed-confusion",
   "metadata": {},
   "source": [
    "# Iteration 1"
   ]
  },
  {
   "cell_type": "code",
   "execution_count": 59,
   "id": "logical-search",
   "metadata": {},
   "outputs": [
    {
     "name": "stdout",
     "output_type": "stream",
     "text": [
      "The optimal objective value =  9.649350649350648\n",
      "An optimal solution is  [0.         4.28571429 4.         1.36363636]\n"
     ]
    },
    {
     "name": "stderr",
     "output_type": "stream",
     "text": [
      "C:\\Users\\ujjaw\\anaconda3\\envs\\cvxpy\\lib\\site-packages\\ipykernel\\ipkernel.py:287: DeprecationWarning: `should_run_async` will not call `transform_cell` automatically in the future. Please pass the result to `transformed_cell` argument and any exception that happen during thetransform in `preprocessing_exc_tuple` in IPython 7.17 and above.\n",
      "  and should_run_async(code)\n",
      "C:\\Users\\ujjaw\\anaconda3\\envs\\cvxpy\\lib\\site-packages\\cvxpy\\expressions\\expression.py:550: UserWarning: \n",
      "This use of ``*`` has resulted in matrix multiplication.\n",
      "Using ``*`` for matrix multiplication has been deprecated since CVXPY 1.1.\n",
      "    Use ``*`` for matrix-scalar and vector-scalar multiplication.\n",
      "    Use ``@`` for matrix-matrix and matrix-vector multiplication.\n",
      "    Use ``multiply`` for elementwise multiplication.\n",
      "\n",
      "  warnings.warn(__STAR_MATMUL_WARNING__, UserWarning)\n",
      "C:\\Users\\ujjaw\\anaconda3\\envs\\cvxpy\\lib\\site-packages\\ipykernel_launcher.py:13: PendingDeprecationWarning: the matrix subclass is not the recommended way to represent matrices or deal with linear algebra (see https://docs.scipy.org/doc/numpy/user/numpy-for-matlab-users.html). Please adjust your code to use regular ndarray.\n",
      "  del sys.path[0]\n",
      "C:\\Users\\ujjaw\\anaconda3\\envs\\cvxpy\\lib\\site-packages\\cvxpy\\interface\\numpy_interface\\ndarray_interface.py:47: DeprecationWarning: `np.complex` is a deprecated alias for the builtin `complex`. To silence this warning, use `complex` by itself. Doing this will not modify any behavior and is safe. If you specifically wanted the numpy scalar type, use `np.complex128` here.\n",
      "Deprecated in NumPy 1.20; for more details and guidance: https://numpy.org/devdocs/release/1.20.0-notes.html#deprecations\n",
      "  if result.dtype in [numpy.complex, numpy.float64]:\n",
      "C:\\Users\\ujjaw\\anaconda3\\envs\\cvxpy\\lib\\site-packages\\cvxpy\\expressions\\expression.py:550: UserWarning: \n",
      "This use of ``*`` has resulted in matrix multiplication.\n",
      "Using ``*`` for matrix multiplication has been deprecated since CVXPY 1.1.\n",
      "    Use ``*`` for matrix-scalar and vector-scalar multiplication.\n",
      "    Use ``@`` for matrix-matrix and matrix-vector multiplication.\n",
      "    Use ``multiply`` for elementwise multiplication.\n",
      "\n",
      "  warnings.warn(__STAR_MATMUL_WARNING__, UserWarning)\n",
      "C:\\Users\\ujjaw\\anaconda3\\envs\\cvxpy\\lib\\site-packages\\cvxpy\\interface\\numpy_interface\\ndarray_interface.py:47: DeprecationWarning: `np.complex` is a deprecated alias for the builtin `complex`. To silence this warning, use `complex` by itself. Doing this will not modify any behavior and is safe. If you specifically wanted the numpy scalar type, use `np.complex128` here.\n",
      "Deprecated in NumPy 1.20; for more details and guidance: https://numpy.org/devdocs/release/1.20.0-notes.html#deprecations\n",
      "  if result.dtype in [numpy.complex, numpy.float64]:\n",
      "C:\\Users\\ujjaw\\anaconda3\\envs\\cvxpy\\lib\\site-packages\\cvxpy\\reductions\\solvers\\solving_chain.py:341: DeprecationWarning: Deprecated, use Model.addMConstr() instead\n",
      "  solver_opts, problem._solver_cache)\n"
     ]
    }
   ],
   "source": [
    "# define variable x's\n",
    "x = Variable(4)\n",
    "\n",
    "# define the objective\n",
    "c = np.ones(4)\n",
    "obj = c.transpose() * x\n",
    "\n",
    "# define the constraints\n",
    "A = np.matrix([\n",
    "    [10, 0, 0],\n",
    "    [0, 7, 0],\n",
    "    [0, 0, 5],\n",
    "    [11, 0, 0]\n",
    "]).transpose()\n",
    "b = np.array([15, 30, 20])\n",
    "\n",
    "constr = [ A * x == b,x >= 0]\n",
    "\n",
    "# define and solve the problem\n",
    "\n",
    "prob= Problem(Minimize(obj), constr)\n",
    "prob.solve(solver = GUROBI)\n",
    "\n",
    "print(\"The optimal objective value = \", obj.value)\n",
    "print(\"An optimal solution is \", x.value)"
   ]
  },
  {
   "cell_type": "code",
   "execution_count": 60,
   "id": "motivated-designer",
   "metadata": {},
   "outputs": [
    {
     "name": "stdout",
     "output_type": "stream",
     "text": [
      "The dual variables are  [0.09090909 0.14285714 0.2       ]\n"
     ]
    },
    {
     "name": "stderr",
     "output_type": "stream",
     "text": [
      "C:\\Users\\ujjaw\\anaconda3\\envs\\cvxpy\\lib\\site-packages\\ipykernel\\ipkernel.py:287: DeprecationWarning: `should_run_async` will not call `transform_cell` automatically in the future. Please pass the result to `transformed_cell` argument and any exception that happen during thetransform in `preprocessing_exc_tuple` in IPython 7.17 and above.\n",
      "  and should_run_async(code)\n"
     ]
    }
   ],
   "source": [
    "# since all variables are nonzero, the basis matrix is A\n",
    "B = A[:, 1:]\n",
    "c_B = c[1:]\n",
    "\n",
    "# get the dual variables\n",
    "y_hat = c_B.dot(linalg.inv(B))\n",
    "print(\"The dual variables are \", y_hat)"
   ]
  },
  {
   "cell_type": "code",
   "execution_count": 61,
   "id": "seventh-yesterday",
   "metadata": {},
   "outputs": [
    {
     "name": "stdout",
     "output_type": "stream",
     "text": [
      "The reduced cost is  -0.03896103896103886\n",
      "The generated column is  [2. 6. 0.]\n"
     ]
    },
    {
     "name": "stderr",
     "output_type": "stream",
     "text": [
      "C:\\Users\\ujjaw\\anaconda3\\envs\\cvxpy\\lib\\site-packages\\cvxpy\\expressions\\expression.py:550: UserWarning: \n",
      "This use of ``*`` has resulted in matrix multiplication.\n",
      "Using ``*`` for matrix multiplication has been deprecated since CVXPY 1.1.\n",
      "    Use ``*`` for matrix-scalar and vector-scalar multiplication.\n",
      "    Use ``@`` for matrix-matrix and matrix-vector multiplication.\n",
      "    Use ``multiply`` for elementwise multiplication.\n",
      "\n",
      "  warnings.warn(__STAR_MATMUL_WARNING__, UserWarning)\n",
      "C:\\Users\\ujjaw\\anaconda3\\envs\\cvxpy\\lib\\site-packages\\cvxpy\\interface\\numpy_interface\\ndarray_interface.py:47: DeprecationWarning: `np.complex` is a deprecated alias for the builtin `complex`. To silence this warning, use `complex` by itself. Doing this will not modify any behavior and is safe. If you specifically wanted the numpy scalar type, use `np.complex128` here.\n",
      "Deprecated in NumPy 1.20; for more details and guidance: https://numpy.org/devdocs/release/1.20.0-notes.html#deprecations\n",
      "  if result.dtype in [numpy.complex, numpy.float64]:\n",
      "C:\\Users\\ujjaw\\anaconda3\\envs\\cvxpy\\lib\\site-packages\\cvxpy\\expressions\\expression.py:550: UserWarning: \n",
      "This use of ``*`` has resulted in matrix multiplication.\n",
      "Using ``*`` for matrix multiplication has been deprecated since CVXPY 1.1.\n",
      "    Use ``*`` for matrix-scalar and vector-scalar multiplication.\n",
      "    Use ``@`` for matrix-matrix and matrix-vector multiplication.\n",
      "    Use ``multiply`` for elementwise multiplication.\n",
      "\n",
      "  warnings.warn(__STAR_MATMUL_WARNING__, UserWarning)\n",
      "C:\\Users\\ujjaw\\anaconda3\\envs\\cvxpy\\lib\\site-packages\\cvxpy\\interface\\numpy_interface\\ndarray_interface.py:47: DeprecationWarning: `np.complex` is a deprecated alias for the builtin `complex`. To silence this warning, use `complex` by itself. Doing this will not modify any behavior and is safe. If you specifically wanted the numpy scalar type, use `np.complex128` here.\n",
      "Deprecated in NumPy 1.20; for more details and guidance: https://numpy.org/devdocs/release/1.20.0-notes.html#deprecations\n",
      "  if result.dtype in [numpy.complex, numpy.float64]:\n",
      "C:\\Users\\ujjaw\\anaconda3\\envs\\cvxpy\\lib\\site-packages\\cvxpy\\reductions\\solvers\\solving_chain.py:341: DeprecationWarning: Deprecated, use Model.addMConstr() instead\n",
      "  solver_opts, problem._solver_cache)\n"
     ]
    }
   ],
   "source": [
    "# get the dual variables from the previous RMP and define the objective function\n",
    "a = Variable(3, integer=True)\n",
    "obj = y_hat * a\n",
    "\n",
    "# set up the constraints for the pricing problem\n",
    "w = np.array([7, 11, 16])\n",
    "W = 80\n",
    "constr = [w * a <= W,a >= 0]\n",
    "\n",
    "# define the problem\n",
    "prob = Problem(Maximize(obj), constr)\n",
    "prob.solve(solver = GUROBI)\n",
    "\n",
    "# check the minimum reduced cost\n",
    "print(\"The reduced cost is \", 1 - obj.value)\n",
    "\n",
    "# since the reduced cost is negative, print out the generated column\n",
    "print(\"The generated column is \", a.value)"
   ]
  },
  {
   "cell_type": "markdown",
   "id": "australian-tsunami",
   "metadata": {},
   "source": [
    "# Iteration 2"
   ]
  },
  {
   "cell_type": "code",
   "execution_count": 62,
   "id": "congressional-toddler",
   "metadata": {},
   "outputs": [
    {
     "name": "stdout",
     "output_type": "stream",
     "text": [
      "The optimal objective value =  9.454545454545453\n",
      "An optimal solution is  [0.         0.         4.         0.45454545 5.        ]\n"
     ]
    },
    {
     "name": "stderr",
     "output_type": "stream",
     "text": [
      "C:\\Users\\ujjaw\\anaconda3\\envs\\cvxpy\\lib\\site-packages\\ipykernel\\ipkernel.py:287: DeprecationWarning: `should_run_async` will not call `transform_cell` automatically in the future. Please pass the result to `transformed_cell` argument and any exception that happen during thetransform in `preprocessing_exc_tuple` in IPython 7.17 and above.\n",
      "  and should_run_async(code)\n",
      "C:\\Users\\ujjaw\\anaconda3\\envs\\cvxpy\\lib\\site-packages\\cvxpy\\expressions\\expression.py:550: UserWarning: \n",
      "This use of ``*`` has resulted in matrix multiplication.\n",
      "Using ``*`` for matrix multiplication has been deprecated since CVXPY 1.1.\n",
      "    Use ``*`` for matrix-scalar and vector-scalar multiplication.\n",
      "    Use ``@`` for matrix-matrix and matrix-vector multiplication.\n",
      "    Use ``multiply`` for elementwise multiplication.\n",
      "\n",
      "  warnings.warn(__STAR_MATMUL_WARNING__, UserWarning)\n",
      "C:\\Users\\ujjaw\\anaconda3\\envs\\cvxpy\\lib\\site-packages\\ipykernel_launcher.py:14: PendingDeprecationWarning: the matrix subclass is not the recommended way to represent matrices or deal with linear algebra (see https://docs.scipy.org/doc/numpy/user/numpy-for-matlab-users.html). Please adjust your code to use regular ndarray.\n",
      "  \n",
      "C:\\Users\\ujjaw\\anaconda3\\envs\\cvxpy\\lib\\site-packages\\cvxpy\\interface\\numpy_interface\\ndarray_interface.py:47: DeprecationWarning: `np.complex` is a deprecated alias for the builtin `complex`. To silence this warning, use `complex` by itself. Doing this will not modify any behavior and is safe. If you specifically wanted the numpy scalar type, use `np.complex128` here.\n",
      "Deprecated in NumPy 1.20; for more details and guidance: https://numpy.org/devdocs/release/1.20.0-notes.html#deprecations\n",
      "  if result.dtype in [numpy.complex, numpy.float64]:\n",
      "C:\\Users\\ujjaw\\anaconda3\\envs\\cvxpy\\lib\\site-packages\\cvxpy\\expressions\\expression.py:550: UserWarning: \n",
      "This use of ``*`` has resulted in matrix multiplication.\n",
      "Using ``*`` for matrix multiplication has been deprecated since CVXPY 1.1.\n",
      "    Use ``*`` for matrix-scalar and vector-scalar multiplication.\n",
      "    Use ``@`` for matrix-matrix and matrix-vector multiplication.\n",
      "    Use ``multiply`` for elementwise multiplication.\n",
      "\n",
      "  warnings.warn(__STAR_MATMUL_WARNING__, UserWarning)\n",
      "C:\\Users\\ujjaw\\anaconda3\\envs\\cvxpy\\lib\\site-packages\\cvxpy\\interface\\numpy_interface\\ndarray_interface.py:47: DeprecationWarning: `np.complex` is a deprecated alias for the builtin `complex`. To silence this warning, use `complex` by itself. Doing this will not modify any behavior and is safe. If you specifically wanted the numpy scalar type, use `np.complex128` here.\n",
      "Deprecated in NumPy 1.20; for more details and guidance: https://numpy.org/devdocs/release/1.20.0-notes.html#deprecations\n",
      "  if result.dtype in [numpy.complex, numpy.float64]:\n",
      "C:\\Users\\ujjaw\\anaconda3\\envs\\cvxpy\\lib\\site-packages\\cvxpy\\reductions\\solvers\\solving_chain.py:341: DeprecationWarning: Deprecated, use Model.addMConstr() instead\n",
      "  solver_opts, problem._solver_cache)\n"
     ]
    }
   ],
   "source": [
    "# define variable x's\n",
    "x = Variable(5)\n",
    "\n",
    "# define the objective\n",
    "c = np.ones(5)\n",
    "obj = c.transpose() * x\n",
    "\n",
    "# define the constraints\n",
    "A = np.matrix([\n",
    "    [10, 0, 0],\n",
    "    [0, 7, 0],\n",
    "    [0, 0, 5],\n",
    "    [11, 0, 0],\n",
    "    [2, 6, 0]\n",
    "]).transpose()\n",
    "b = np.array([15, 30, 20])\n",
    "\n",
    "constr = [ A * x == b,x >= 0]\n",
    "\n",
    "# define and solve the problem\n",
    "\n",
    "prob= Problem(Minimize(obj), constr)\n",
    "prob.solve(solver = GUROBI)\n",
    "\n",
    "print(\"The optimal objective value = \", obj.value)\n",
    "print(\"An optimal solution is \", x.value)"
   ]
  },
  {
   "cell_type": "code",
   "execution_count": 63,
   "id": "dirty-fountain",
   "metadata": {},
   "outputs": [
    {
     "name": "stdout",
     "output_type": "stream",
     "text": [
      "The dual variables are  [0.09090909 0.13636364 0.2       ]\n"
     ]
    },
    {
     "name": "stderr",
     "output_type": "stream",
     "text": [
      "C:\\Users\\ujjaw\\anaconda3\\envs\\cvxpy\\lib\\site-packages\\ipykernel\\ipkernel.py:287: DeprecationWarning: `should_run_async` will not call `transform_cell` automatically in the future. Please pass the result to `transformed_cell` argument and any exception that happen during thetransform in `preprocessing_exc_tuple` in IPython 7.17 and above.\n",
      "  and should_run_async(code)\n"
     ]
    }
   ],
   "source": [
    "# since all variables are nonzero, the basis matrix is A\n",
    "B = A[:, 2:]\n",
    "c_B = c[2:]\n",
    "\n",
    "# get the dual variables\n",
    "y_hat = c_B.dot(linalg.inv(B))\n",
    "print(\"The dual variables are \", y_hat)"
   ]
  },
  {
   "cell_type": "code",
   "execution_count": 64,
   "id": "major-outside",
   "metadata": {},
   "outputs": [
    {
     "name": "stdout",
     "output_type": "stream",
     "text": [
      "The reduced cost is  -0.0181818181818183\n",
      "The generated column is  [9. 0. 1.]\n"
     ]
    },
    {
     "name": "stderr",
     "output_type": "stream",
     "text": [
      "C:\\Users\\ujjaw\\anaconda3\\envs\\cvxpy\\lib\\site-packages\\cvxpy\\expressions\\expression.py:550: UserWarning: \n",
      "This use of ``*`` has resulted in matrix multiplication.\n",
      "Using ``*`` for matrix multiplication has been deprecated since CVXPY 1.1.\n",
      "    Use ``*`` for matrix-scalar and vector-scalar multiplication.\n",
      "    Use ``@`` for matrix-matrix and matrix-vector multiplication.\n",
      "    Use ``multiply`` for elementwise multiplication.\n",
      "\n",
      "  warnings.warn(__STAR_MATMUL_WARNING__, UserWarning)\n",
      "C:\\Users\\ujjaw\\anaconda3\\envs\\cvxpy\\lib\\site-packages\\cvxpy\\interface\\numpy_interface\\ndarray_interface.py:47: DeprecationWarning: `np.complex` is a deprecated alias for the builtin `complex`. To silence this warning, use `complex` by itself. Doing this will not modify any behavior and is safe. If you specifically wanted the numpy scalar type, use `np.complex128` here.\n",
      "Deprecated in NumPy 1.20; for more details and guidance: https://numpy.org/devdocs/release/1.20.0-notes.html#deprecations\n",
      "  if result.dtype in [numpy.complex, numpy.float64]:\n",
      "C:\\Users\\ujjaw\\anaconda3\\envs\\cvxpy\\lib\\site-packages\\cvxpy\\expressions\\expression.py:550: UserWarning: \n",
      "This use of ``*`` has resulted in matrix multiplication.\n",
      "Using ``*`` for matrix multiplication has been deprecated since CVXPY 1.1.\n",
      "    Use ``*`` for matrix-scalar and vector-scalar multiplication.\n",
      "    Use ``@`` for matrix-matrix and matrix-vector multiplication.\n",
      "    Use ``multiply`` for elementwise multiplication.\n",
      "\n",
      "  warnings.warn(__STAR_MATMUL_WARNING__, UserWarning)\n",
      "C:\\Users\\ujjaw\\anaconda3\\envs\\cvxpy\\lib\\site-packages\\cvxpy\\interface\\numpy_interface\\ndarray_interface.py:47: DeprecationWarning: `np.complex` is a deprecated alias for the builtin `complex`. To silence this warning, use `complex` by itself. Doing this will not modify any behavior and is safe. If you specifically wanted the numpy scalar type, use `np.complex128` here.\n",
      "Deprecated in NumPy 1.20; for more details and guidance: https://numpy.org/devdocs/release/1.20.0-notes.html#deprecations\n",
      "  if result.dtype in [numpy.complex, numpy.float64]:\n",
      "C:\\Users\\ujjaw\\anaconda3\\envs\\cvxpy\\lib\\site-packages\\cvxpy\\reductions\\solvers\\solving_chain.py:341: DeprecationWarning: Deprecated, use Model.addMConstr() instead\n",
      "  solver_opts, problem._solver_cache)\n"
     ]
    }
   ],
   "source": [
    "# get the dual variables from the previous RMP and define the objective function\n",
    "a = Variable(3, integer=True)\n",
    "obj = y_hat * a\n",
    "\n",
    "# set up the constraints for the pricing problem\n",
    "w = np.array([7, 11, 16])\n",
    "W = 80\n",
    "constr = [w * a <= W,a >= 0]\n",
    "\n",
    "# define the problem\n",
    "prob = Problem(Maximize(obj), constr)\n",
    "prob.solve(solver = GUROBI)\n",
    "\n",
    "# check the minimum reduced cost\n",
    "print(\"The reduced cost is \", 1 - obj.value)\n",
    "\n",
    "# since the reduced cost is negative, print out the generated column\n",
    "print(\"The generated column is \", a.value)"
   ]
  },
  {
   "cell_type": "markdown",
   "id": "bibliographic-sussex",
   "metadata": {},
   "source": [
    "# Iteration 3"
   ]
  },
  {
   "cell_type": "code",
   "execution_count": 65,
   "id": "atlantic-egyptian",
   "metadata": {},
   "outputs": [
    {
     "name": "stdout",
     "output_type": "stream",
     "text": [
      "The optimal objective value =  9.444444444444445\n",
      "An optimal solution is  [0.         0.         3.88888889 0.         5.         0.55555556]\n"
     ]
    },
    {
     "name": "stderr",
     "output_type": "stream",
     "text": [
      "C:\\Users\\ujjaw\\anaconda3\\envs\\cvxpy\\lib\\site-packages\\ipykernel\\ipkernel.py:287: DeprecationWarning: `should_run_async` will not call `transform_cell` automatically in the future. Please pass the result to `transformed_cell` argument and any exception that happen during thetransform in `preprocessing_exc_tuple` in IPython 7.17 and above.\n",
      "  and should_run_async(code)\n",
      "C:\\Users\\ujjaw\\anaconda3\\envs\\cvxpy\\lib\\site-packages\\cvxpy\\expressions\\expression.py:550: UserWarning: \n",
      "This use of ``*`` has resulted in matrix multiplication.\n",
      "Using ``*`` for matrix multiplication has been deprecated since CVXPY 1.1.\n",
      "    Use ``*`` for matrix-scalar and vector-scalar multiplication.\n",
      "    Use ``@`` for matrix-matrix and matrix-vector multiplication.\n",
      "    Use ``multiply`` for elementwise multiplication.\n",
      "\n",
      "  warnings.warn(__STAR_MATMUL_WARNING__, UserWarning)\n",
      "C:\\Users\\ujjaw\\anaconda3\\envs\\cvxpy\\lib\\site-packages\\ipykernel_launcher.py:15: PendingDeprecationWarning: the matrix subclass is not the recommended way to represent matrices or deal with linear algebra (see https://docs.scipy.org/doc/numpy/user/numpy-for-matlab-users.html). Please adjust your code to use regular ndarray.\n",
      "  from ipykernel import kernelapp as app\n",
      "C:\\Users\\ujjaw\\anaconda3\\envs\\cvxpy\\lib\\site-packages\\cvxpy\\interface\\numpy_interface\\ndarray_interface.py:47: DeprecationWarning: `np.complex` is a deprecated alias for the builtin `complex`. To silence this warning, use `complex` by itself. Doing this will not modify any behavior and is safe. If you specifically wanted the numpy scalar type, use `np.complex128` here.\n",
      "Deprecated in NumPy 1.20; for more details and guidance: https://numpy.org/devdocs/release/1.20.0-notes.html#deprecations\n",
      "  if result.dtype in [numpy.complex, numpy.float64]:\n",
      "C:\\Users\\ujjaw\\anaconda3\\envs\\cvxpy\\lib\\site-packages\\cvxpy\\expressions\\expression.py:550: UserWarning: \n",
      "This use of ``*`` has resulted in matrix multiplication.\n",
      "Using ``*`` for matrix multiplication has been deprecated since CVXPY 1.1.\n",
      "    Use ``*`` for matrix-scalar and vector-scalar multiplication.\n",
      "    Use ``@`` for matrix-matrix and matrix-vector multiplication.\n",
      "    Use ``multiply`` for elementwise multiplication.\n",
      "\n",
      "  warnings.warn(__STAR_MATMUL_WARNING__, UserWarning)\n",
      "C:\\Users\\ujjaw\\anaconda3\\envs\\cvxpy\\lib\\site-packages\\cvxpy\\interface\\numpy_interface\\ndarray_interface.py:47: DeprecationWarning: `np.complex` is a deprecated alias for the builtin `complex`. To silence this warning, use `complex` by itself. Doing this will not modify any behavior and is safe. If you specifically wanted the numpy scalar type, use `np.complex128` here.\n",
      "Deprecated in NumPy 1.20; for more details and guidance: https://numpy.org/devdocs/release/1.20.0-notes.html#deprecations\n",
      "  if result.dtype in [numpy.complex, numpy.float64]:\n",
      "C:\\Users\\ujjaw\\anaconda3\\envs\\cvxpy\\lib\\site-packages\\cvxpy\\reductions\\solvers\\solving_chain.py:341: DeprecationWarning: Deprecated, use Model.addMConstr() instead\n",
      "  solver_opts, problem._solver_cache)\n"
     ]
    }
   ],
   "source": [
    "# define variable x's\n",
    "x = Variable(6)\n",
    "\n",
    "# define the objective\n",
    "c = np.ones(6)\n",
    "obj = c.transpose() * x\n",
    "\n",
    "# define the constraints\n",
    "A = np.matrix([\n",
    "    [10, 0, 0],\n",
    "    [0, 7, 0],\n",
    "    [0, 0, 5],\n",
    "    [11, 0, 0],\n",
    "    [2, 6, 0],\n",
    "    [9, 0, 1]\n",
    "]).transpose()\n",
    "b = np.array([15, 30, 20])\n",
    "\n",
    "constr = [ A * x == b,x >= 0]\n",
    "\n",
    "# define and solve the problem\n",
    "\n",
    "prob= Problem(Minimize(obj), constr)\n",
    "prob.solve(solver = GUROBI)\n",
    "\n",
    "print(\"The optimal objective value = \", obj.value)\n",
    "print(\"An optimal solution is \", x.value)"
   ]
  },
  {
   "cell_type": "code",
   "execution_count": 67,
   "id": "shaped-mirror",
   "metadata": {},
   "outputs": [
    {
     "name": "stdout",
     "output_type": "stream",
     "text": [
      "The dual variables are  [0.08888889 0.13703704 0.2       ]\n"
     ]
    }
   ],
   "source": [
    "# since all variables are nonzero, the basis matrix is A\n",
    "B = A[:, [2,4,5]]\n",
    "c_B = c[[2,4,5]]\n",
    "\n",
    "# get the dual variables\n",
    "y_hat = c_B.dot(linalg.inv(B))\n",
    "print(\"The dual variables are \", y_hat)"
   ]
  },
  {
   "cell_type": "code",
   "execution_count": 68,
   "id": "severe-minimum",
   "metadata": {},
   "outputs": [
    {
     "name": "stdout",
     "output_type": "stream",
     "text": [
      "The reduced cost is  -0.007407407407407307\n",
      "The generated column is  [6. 2. 1.]\n"
     ]
    },
    {
     "name": "stderr",
     "output_type": "stream",
     "text": [
      "C:\\Users\\ujjaw\\anaconda3\\envs\\cvxpy\\lib\\site-packages\\cvxpy\\expressions\\expression.py:550: UserWarning: \n",
      "This use of ``*`` has resulted in matrix multiplication.\n",
      "Using ``*`` for matrix multiplication has been deprecated since CVXPY 1.1.\n",
      "    Use ``*`` for matrix-scalar and vector-scalar multiplication.\n",
      "    Use ``@`` for matrix-matrix and matrix-vector multiplication.\n",
      "    Use ``multiply`` for elementwise multiplication.\n",
      "\n",
      "  warnings.warn(__STAR_MATMUL_WARNING__, UserWarning)\n",
      "C:\\Users\\ujjaw\\anaconda3\\envs\\cvxpy\\lib\\site-packages\\cvxpy\\interface\\numpy_interface\\ndarray_interface.py:47: DeprecationWarning: `np.complex` is a deprecated alias for the builtin `complex`. To silence this warning, use `complex` by itself. Doing this will not modify any behavior and is safe. If you specifically wanted the numpy scalar type, use `np.complex128` here.\n",
      "Deprecated in NumPy 1.20; for more details and guidance: https://numpy.org/devdocs/release/1.20.0-notes.html#deprecations\n",
      "  if result.dtype in [numpy.complex, numpy.float64]:\n",
      "C:\\Users\\ujjaw\\anaconda3\\envs\\cvxpy\\lib\\site-packages\\cvxpy\\expressions\\expression.py:550: UserWarning: \n",
      "This use of ``*`` has resulted in matrix multiplication.\n",
      "Using ``*`` for matrix multiplication has been deprecated since CVXPY 1.1.\n",
      "    Use ``*`` for matrix-scalar and vector-scalar multiplication.\n",
      "    Use ``@`` for matrix-matrix and matrix-vector multiplication.\n",
      "    Use ``multiply`` for elementwise multiplication.\n",
      "\n",
      "  warnings.warn(__STAR_MATMUL_WARNING__, UserWarning)\n",
      "C:\\Users\\ujjaw\\anaconda3\\envs\\cvxpy\\lib\\site-packages\\cvxpy\\interface\\numpy_interface\\ndarray_interface.py:47: DeprecationWarning: `np.complex` is a deprecated alias for the builtin `complex`. To silence this warning, use `complex` by itself. Doing this will not modify any behavior and is safe. If you specifically wanted the numpy scalar type, use `np.complex128` here.\n",
      "Deprecated in NumPy 1.20; for more details and guidance: https://numpy.org/devdocs/release/1.20.0-notes.html#deprecations\n",
      "  if result.dtype in [numpy.complex, numpy.float64]:\n",
      "C:\\Users\\ujjaw\\anaconda3\\envs\\cvxpy\\lib\\site-packages\\cvxpy\\reductions\\solvers\\solving_chain.py:341: DeprecationWarning: Deprecated, use Model.addMConstr() instead\n",
      "  solver_opts, problem._solver_cache)\n"
     ]
    }
   ],
   "source": [
    "# get the dual variables from the previous RMP and define the objective function\n",
    "a = Variable(3, integer=True)\n",
    "obj = y_hat * a\n",
    "\n",
    "# set up the constraints for the pricing problem\n",
    "w = np.array([7, 11, 16])\n",
    "W = 80\n",
    "constr = [w * a <= W,a >= 0]\n",
    "\n",
    "# define the problem\n",
    "prob = Problem(Maximize(obj), constr)\n",
    "prob.solve(solver = GUROBI)\n",
    "\n",
    "# check the minimum reduced cost\n",
    "print(\"The reduced cost is \", 1 - obj.value)\n",
    "\n",
    "# since the reduced cost is negative, print out the generated column\n",
    "print(\"The generated column is \", a.value)"
   ]
  },
  {
   "cell_type": "markdown",
   "id": "tribal-premises",
   "metadata": {},
   "source": [
    "# Iteration 4"
   ]
  },
  {
   "cell_type": "code",
   "execution_count": 69,
   "id": "angry-freight",
   "metadata": {},
   "outputs": [
    {
     "name": "stdout",
     "output_type": "stream",
     "text": [
      "The optimal objective value =  9.4375\n",
      "An optimal solution is  [0.     0.     3.8125 0.     4.6875 0.     0.9375]\n"
     ]
    },
    {
     "name": "stderr",
     "output_type": "stream",
     "text": [
      "C:\\Users\\ujjaw\\anaconda3\\envs\\cvxpy\\lib\\site-packages\\ipykernel\\ipkernel.py:287: DeprecationWarning: `should_run_async` will not call `transform_cell` automatically in the future. Please pass the result to `transformed_cell` argument and any exception that happen during thetransform in `preprocessing_exc_tuple` in IPython 7.17 and above.\n",
      "  and should_run_async(code)\n",
      "C:\\Users\\ujjaw\\anaconda3\\envs\\cvxpy\\lib\\site-packages\\cvxpy\\expressions\\expression.py:550: UserWarning: \n",
      "This use of ``*`` has resulted in matrix multiplication.\n",
      "Using ``*`` for matrix multiplication has been deprecated since CVXPY 1.1.\n",
      "    Use ``*`` for matrix-scalar and vector-scalar multiplication.\n",
      "    Use ``@`` for matrix-matrix and matrix-vector multiplication.\n",
      "    Use ``multiply`` for elementwise multiplication.\n",
      "\n",
      "  warnings.warn(__STAR_MATMUL_WARNING__, UserWarning)\n",
      "C:\\Users\\ujjaw\\anaconda3\\envs\\cvxpy\\lib\\site-packages\\ipykernel_launcher.py:16: PendingDeprecationWarning: the matrix subclass is not the recommended way to represent matrices or deal with linear algebra (see https://docs.scipy.org/doc/numpy/user/numpy-for-matlab-users.html). Please adjust your code to use regular ndarray.\n",
      "  app.launch_new_instance()\n",
      "C:\\Users\\ujjaw\\anaconda3\\envs\\cvxpy\\lib\\site-packages\\cvxpy\\interface\\numpy_interface\\ndarray_interface.py:47: DeprecationWarning: `np.complex` is a deprecated alias for the builtin `complex`. To silence this warning, use `complex` by itself. Doing this will not modify any behavior and is safe. If you specifically wanted the numpy scalar type, use `np.complex128` here.\n",
      "Deprecated in NumPy 1.20; for more details and guidance: https://numpy.org/devdocs/release/1.20.0-notes.html#deprecations\n",
      "  if result.dtype in [numpy.complex, numpy.float64]:\n",
      "C:\\Users\\ujjaw\\anaconda3\\envs\\cvxpy\\lib\\site-packages\\cvxpy\\expressions\\expression.py:550: UserWarning: \n",
      "This use of ``*`` has resulted in matrix multiplication.\n",
      "Using ``*`` for matrix multiplication has been deprecated since CVXPY 1.1.\n",
      "    Use ``*`` for matrix-scalar and vector-scalar multiplication.\n",
      "    Use ``@`` for matrix-matrix and matrix-vector multiplication.\n",
      "    Use ``multiply`` for elementwise multiplication.\n",
      "\n",
      "  warnings.warn(__STAR_MATMUL_WARNING__, UserWarning)\n",
      "C:\\Users\\ujjaw\\anaconda3\\envs\\cvxpy\\lib\\site-packages\\cvxpy\\interface\\numpy_interface\\ndarray_interface.py:47: DeprecationWarning: `np.complex` is a deprecated alias for the builtin `complex`. To silence this warning, use `complex` by itself. Doing this will not modify any behavior and is safe. If you specifically wanted the numpy scalar type, use `np.complex128` here.\n",
      "Deprecated in NumPy 1.20; for more details and guidance: https://numpy.org/devdocs/release/1.20.0-notes.html#deprecations\n",
      "  if result.dtype in [numpy.complex, numpy.float64]:\n",
      "C:\\Users\\ujjaw\\anaconda3\\envs\\cvxpy\\lib\\site-packages\\cvxpy\\reductions\\solvers\\solving_chain.py:341: DeprecationWarning: Deprecated, use Model.addMConstr() instead\n",
      "  solver_opts, problem._solver_cache)\n"
     ]
    }
   ],
   "source": [
    "# define variable x's\n",
    "x = Variable(7)\n",
    "\n",
    "# define the objective\n",
    "c = np.ones(7)\n",
    "obj = c.transpose() * x\n",
    "\n",
    "# define the constraints\n",
    "A = np.matrix([\n",
    "    [10, 0, 0],\n",
    "    [0, 7, 0],\n",
    "    [0, 0, 5],\n",
    "    [11, 0, 0],\n",
    "    [2, 6, 0],\n",
    "    [9, 0, 1],\n",
    "    [6, 2, 1]\n",
    "]).transpose()\n",
    "\n",
    "b = np.array([15, 30, 20])\n",
    "\n",
    "constr = [ A * x == b,x >= 0]\n",
    "\n",
    "# define and solve the problem\n",
    "\n",
    "prob= Problem(Minimize(obj), constr)\n",
    "prob.solve(solver = GUROBI)\n",
    "\n",
    "print(\"The optimal objective value = \", obj.value)\n",
    "print(\"An optimal solution is \", x.value)"
   ]
  },
  {
   "cell_type": "code",
   "execution_count": 70,
   "id": "greek-catalog",
   "metadata": {
    "scrolled": true
   },
   "outputs": [
    {
     "name": "stdout",
     "output_type": "stream",
     "text": [
      "The dual variables are  [0.0875 0.1375 0.2   ]\n"
     ]
    },
    {
     "name": "stderr",
     "output_type": "stream",
     "text": [
      "C:\\Users\\ujjaw\\anaconda3\\envs\\cvxpy\\lib\\site-packages\\ipykernel\\ipkernel.py:287: DeprecationWarning: `should_run_async` will not call `transform_cell` automatically in the future. Please pass the result to `transformed_cell` argument and any exception that happen during thetransform in `preprocessing_exc_tuple` in IPython 7.17 and above.\n",
      "  and should_run_async(code)\n"
     ]
    }
   ],
   "source": [
    "# since all variables are nonzero, the basis matrix is A\n",
    "B = A[:, [2,4,6]]\n",
    "c_B = c[[2,4,6]]\n",
    "\n",
    "# get the dual variables\n",
    "y_hat = c_B.dot(linalg.inv(B))\n",
    "print(\"The dual variables are \", y_hat)"
   ]
  },
  {
   "cell_type": "code",
   "execution_count": 71,
   "id": "scientific-shaft",
   "metadata": {},
   "outputs": [
    {
     "name": "stdout",
     "output_type": "stream",
     "text": [
      "The reduced cost is  0.0\n",
      "The generated column is  [2. 6. 0.]\n"
     ]
    },
    {
     "name": "stderr",
     "output_type": "stream",
     "text": [
      "C:\\Users\\ujjaw\\anaconda3\\envs\\cvxpy\\lib\\site-packages\\cvxpy\\expressions\\expression.py:550: UserWarning: \n",
      "This use of ``*`` has resulted in matrix multiplication.\n",
      "Using ``*`` for matrix multiplication has been deprecated since CVXPY 1.1.\n",
      "    Use ``*`` for matrix-scalar and vector-scalar multiplication.\n",
      "    Use ``@`` for matrix-matrix and matrix-vector multiplication.\n",
      "    Use ``multiply`` for elementwise multiplication.\n",
      "\n",
      "  warnings.warn(__STAR_MATMUL_WARNING__, UserWarning)\n",
      "C:\\Users\\ujjaw\\anaconda3\\envs\\cvxpy\\lib\\site-packages\\cvxpy\\interface\\numpy_interface\\ndarray_interface.py:47: DeprecationWarning: `np.complex` is a deprecated alias for the builtin `complex`. To silence this warning, use `complex` by itself. Doing this will not modify any behavior and is safe. If you specifically wanted the numpy scalar type, use `np.complex128` here.\n",
      "Deprecated in NumPy 1.20; for more details and guidance: https://numpy.org/devdocs/release/1.20.0-notes.html#deprecations\n",
      "  if result.dtype in [numpy.complex, numpy.float64]:\n",
      "C:\\Users\\ujjaw\\anaconda3\\envs\\cvxpy\\lib\\site-packages\\cvxpy\\expressions\\expression.py:550: UserWarning: \n",
      "This use of ``*`` has resulted in matrix multiplication.\n",
      "Using ``*`` for matrix multiplication has been deprecated since CVXPY 1.1.\n",
      "    Use ``*`` for matrix-scalar and vector-scalar multiplication.\n",
      "    Use ``@`` for matrix-matrix and matrix-vector multiplication.\n",
      "    Use ``multiply`` for elementwise multiplication.\n",
      "\n",
      "  warnings.warn(__STAR_MATMUL_WARNING__, UserWarning)\n",
      "C:\\Users\\ujjaw\\anaconda3\\envs\\cvxpy\\lib\\site-packages\\cvxpy\\interface\\numpy_interface\\ndarray_interface.py:47: DeprecationWarning: `np.complex` is a deprecated alias for the builtin `complex`. To silence this warning, use `complex` by itself. Doing this will not modify any behavior and is safe. If you specifically wanted the numpy scalar type, use `np.complex128` here.\n",
      "Deprecated in NumPy 1.20; for more details and guidance: https://numpy.org/devdocs/release/1.20.0-notes.html#deprecations\n",
      "  if result.dtype in [numpy.complex, numpy.float64]:\n",
      "C:\\Users\\ujjaw\\anaconda3\\envs\\cvxpy\\lib\\site-packages\\cvxpy\\reductions\\solvers\\solving_chain.py:341: DeprecationWarning: Deprecated, use Model.addMConstr() instead\n",
      "  solver_opts, problem._solver_cache)\n"
     ]
    }
   ],
   "source": [
    "# get the dual variables from the previous RMP and define the objective function\n",
    "a = Variable(3, integer=True)\n",
    "obj = y_hat * a\n",
    "\n",
    "# set up the constraints for the pricing problem\n",
    "w = np.array([7, 11, 16])\n",
    "W = 80\n",
    "constr = [w * a <= W,a >= 0]\n",
    "\n",
    "# define the problem\n",
    "prob = Problem(Maximize(obj), constr)\n",
    "prob.solve(solver = GUROBI)\n",
    "\n",
    "# check the minimum reduced cost\n",
    "print(\"The reduced cost is \", 1 - obj.value)\n",
    "\n",
    "# since the reduced cost is negative, print out the generated column\n",
    "print(\"The generated column is \", a.value)"
   ]
  },
  {
   "cell_type": "code",
   "execution_count": 72,
   "id": "varied-sellers",
   "metadata": {},
   "outputs": [
    {
     "name": "stderr",
     "output_type": "stream",
     "text": [
      "C:\\Users\\ujjaw\\anaconda3\\envs\\cvxpy\\lib\\site-packages\\ipykernel\\ipkernel.py:287: DeprecationWarning: `should_run_async` will not call `transform_cell` automatically in the future. Please pass the result to `transformed_cell` argument and any exception that happen during thetransform in `preprocessing_exc_tuple` in IPython 7.17 and above.\n",
      "  and should_run_async(code)\n"
     ]
    },
    {
     "data": {
      "text/plain": [
       "matrix([[0, 2, 6],\n",
       "        [0, 6, 2],\n",
       "        [5, 0, 1]])"
      ]
     },
     "execution_count": 72,
     "metadata": {},
     "output_type": "execute_result"
    }
   ],
   "source": [
    "B"
   ]
  },
  {
   "cell_type": "code",
   "execution_count": 73,
   "id": "radio-fancy",
   "metadata": {},
   "outputs": [
    {
     "data": {
      "text/plain": [
       "array([0.    , 0.    , 3.8125, 0.    , 4.6875, 0.    , 0.9375])"
      ]
     },
     "execution_count": 73,
     "metadata": {},
     "output_type": "execute_result"
    }
   ],
   "source": [
    "x.value"
   ]
  },
  {
   "cell_type": "code",
   "execution_count": null,
   "id": "assigned-fellow",
   "metadata": {},
   "outputs": [],
   "source": []
  }
 ],
 "metadata": {
  "kernelspec": {
   "display_name": "Python 3",
   "language": "python",
   "name": "python3"
  },
  "language_info": {
   "codemirror_mode": {
    "name": "ipython",
    "version": 3
   },
   "file_extension": ".py",
   "mimetype": "text/x-python",
   "name": "python",
   "nbconvert_exporter": "python",
   "pygments_lexer": "ipython3",
   "version": "3.7.10"
  }
 },
 "nbformat": 4,
 "nbformat_minor": 5
}
