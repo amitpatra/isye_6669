{
 "cells": [
  {
   "cell_type": "markdown",
   "metadata": {
    "pycharm": {
     "name": "#%% md\n"
    }
   },
   "source": [
    "# Homework 8"
   ]
  },
  {
   "cell_type": "markdown",
   "metadata": {
    "pycharm": {
     "name": "#%% md\n"
    }
   },
   "source": [
    "## Q1\n",
    "Consider the following linear program:\n",
    "\n",
    "\\begin{eqnarray*}\n",
    "\t\t&\\begin{array}{cccccc}\n",
    "\t\t\t\\min & -2x_1 & + & 4x_2 & & \\\\\n",
    "\t\t\t\\text{s.t.} & x_1  & + & x_2  & \\leq & 4 \\\\\n",
    "\t\t\t& -x_1 & + & x_2 & \\leq & 2 \\\\\n",
    "\t\t\t& x_1 & - & x_2 & \\leq & 2 \\\\\n",
    "\t\t\\end{array} \\\\\n",
    "\t\t&\\begin{array}{rr}\n",
    "\t\t\tx_1\\geq 0, & x_2\\geq 0. \\\\\n",
    "\t\t\\end{array}\n",
    "\t\\end{eqnarray*}\n",
    "\n",
    "Graph the constraints of this linear program, and indicate the feasible region."
   ]
  },
  {
   "cell_type": "markdown",
   "metadata": {
    "pycharm": {
     "name": "#%% md\n"
    }
   },
   "source": [
    "## Solution Q1"
   ]
  },
  {
   "cell_type": "code",
   "execution_count": 2,
   "metadata": {},
   "outputs": [
    {
     "data": {
      "text/plain": [
       "[]"
      ]
     },
     "execution_count": 2,
     "metadata": {},
     "output_type": "execute_result"
    },
    {
     "data": {
      "image/png": "[encoded data removed]",
      "text/plain": [
       "<Figure size 720x720 with 1 Axes>"
      ]
     },
     "metadata": {},
     "output_type": "display_data"
    }
   ],
   "source": [
    "import numpy as np\n",
    "import matplotlib.pyplot as plt\n",
    "\n",
    "d = np.linspace(-5, 5, 300)\n",
    "x1, x2 = np.meshgrid(d, d)\n",
    "\n",
    "fig_1, ax_1 = plt.subplots(figsize=(10, 10))\n",
    "fig_1.patch.set_facecolor(\"xkcd:white\")\n",
    "\n",
    "ct_1 = x1 + x2 <= 4\n",
    "ct_2 = -x1 + x2 <= 2\n",
    "ct_3 = x1 - x2 <= 2\n",
    "ct_4 = x1 >= 0\n",
    "ct_5 = x2 >= 0\n",
    "\n",
    "ax_1.imshow((ct_1 & ct_2 & ct_3 & ct_4 & ct_5).astype(int),\n",
    "            extent=(x1.min(), x1.max(), x2.min(), x2.max()),\n",
    "            origin=\"lower\",\n",
    "            cmap=\"Greys\",\n",
    "            alpha = 0.2)\n",
    "\n",
    "eq_1 = 4 - d\n",
    "eq_2 = 2 + d\n",
    "eq_3 = d - 2\n",
    "eq_4 = d * 0\n",
    "\n",
    "eqs = [eq_1, eq_2, eq_3, eq_4]\n",
    "labels = [r\"$x_1+x_2\\leq4$\",\n",
    "          r\"$-x_1+x_2\\leq2$\",\n",
    "          r\"$x_1-x_2\\leq2$\",\n",
    "          r\"$x_1\\geq0$\"]\n",
    "\n",
    "for eq, label in zip(eqs, labels):\n",
    "    ax_1.plot(d, eq, label=label)\n",
    "\n",
    "ax_1.plot(eq_4, d, label=r\"$x_2\\geq0$\")\n",
    "\n",
    "ax_1.set_xlim(-4, 4)\n",
    "ax_1.set_ylim(-4, 4)\n",
    "ax_1.set_title(\"Linear Program Constraints and Feasible Region\", fontsize=16)\n",
    "ax_1.set_xlabel(r\"$x_1$\", size=14)\n",
    "ax_1.set_ylabel(r\"$x_2$\", size=14)\n",
    "\n",
    "plt.legend(loc=2)\n",
    "plt.grid()\n",
    "plt.plot()\n"
   ]
  },
  {
   "cell_type": "markdown",
   "metadata": {
    "pycharm": {
     "name": "#%% md\n"
    }
   },
   "source": [
    "## Q2\n",
    "\n",
    "To solve this problem using the simplex method, first transform it into a standard\n",
    "form LP.\n",
    "\n",
    "Denote ${x}=[x_1,x_2,x_3,x_4,x_5]^\\top$ as the vector of variables, and use the\n",
    "standard form notation:\n",
    "\n",
    "\\begin{array}{cl}\n",
    "\\min & c^{\\top} x \\\\\n",
    "\\text { s.t. } & \\boldsymbol{A} \\boldsymbol{x}=b \\\\\n",
    "& \\boldsymbol{x} \\geq \\mathbf{0}\n",
    "\\end{array}\n",
    "\n",
    "specify ${c},{A},{b}$ for the above problem."
   ]
  },
  {
   "cell_type": "markdown",
   "metadata": {
    "pycharm": {
     "name": "#%% md\n"
    }
   },
   "source": [
    "## Solution Q2\n",
    "\n",
    "\\begin{aligned}\n",
    "&c^\\top=[-2,4,0,0,0] \\\\\n",
    "&A=\\left[\\begin{array}{ccccc}\n",
    "1 & 1 & 1 & 0 & 0 \\\\\n",
    "-1 & 1 & 0 & 1 & 0 \\\\\n",
    "1 & -1 & 0 & 0 & 1\n",
    "\\end{array}\\right] \\\\\n",
    "&b=\\left[\\begin{array}{l}\n",
    "4 \\\\\n",
    "2 \\\\\n",
    "2\n",
    "\\end{array}\\right]\n",
    "\\end{aligned}"
   ]
  },
  {
   "cell_type": "markdown",
   "metadata": {
    "pycharm": {
     "name": "#%% md\n"
    }
   },
   "source": [
    "## Q3\n",
    "\n",
    "Now we want to solve the above standard-form linear program by the simplex method. If in an iteration of the Simplex method, there is any ambiguity about which nonbasic variable to enter the basis or which basic variable to exit the basis, use Bland's rule.\n",
    " \n",
    "\t\n",
    "For each iteration of the simplex method, write down the following information in the format given below:\n",
    "\n",
    "- Iteration $k=\\underline{\\text{numerical value, e.g. 1, 2, ...}}$;\n",
    "- Basis ${B} = [{A}_i,{A}_j, {A}_k]=\\underline{\\text{numerical value}}$ (i.e. you need to specify $i,j,k$ as well as the numerical values of the columns);\n",
    "- Basis inverse ${B}^{-1} = \\underline{\\text{numerical value}}$;\n",
    "- Basic variable ${x}_B = [x_i, x_j, x_k] = \\underline{\\text{numerical value}}$ (you need to specify $i,j,k$ and numerical values of $x_i,x_j,x_k$);\n",
    "- Nonbasic variable ${x}_N = [x_p, x_q] = \\underline{\\text{numerical value}}$ (you need to specify $p,q$ and numerical values of $x_p,x_q$);\n",
    "- Reduced cost for each nonbasic variable $\\bar{c}_p = c_p - {c}_B^\\top{B}^{-1}{A}_? = \\underline{\\text{numerical values}}$; Same for $\\bar{c}_q$; (you need to determine the index ``?'' for ${A}_?$);\n",
    "- Is the current solution optimal? If not, which nonbasic variable enters the basis?\n",
    "- Direction ${d}_B = -{B}^{-1}{A}_?=\\underline{\\text{numerical value}}$. Does the simplex method terminate with an unbounded optimum?\n",
    "- Min-ratio test $\\theta^* = \\min_{i : {d}_{B(i)<0}}\\{x_{B(i)}/(-d_{B(i)})\\}=\\min\\{\\underline{\\text{numerical values of the ratios}}\\}=\\underline{\\text{numerical value of $\\theta^*$}}$. \n",
    "- Which basic variable exits the basis?\n",
    "\n",
    "\n",
    "Start at iteration $k=1$ with the basis ${B}^1=[{A}_1,{A}_2,{A}_5]$. Solve the above linear program with simplex method and write down all the information required above for each iteration. Also indicate the basic feasible solution at each step on the picture in $(x_1, x_2)$. What is the optimal solution of the above LP in $(x_1, \\dots, x_5)$? What is the optimal cost?\n",
    "\n",
    "From this exercise, you can see how the simplex method works and geometrically what each step is doing. "
   ]
  },
  {
   "cell_type": "markdown",
   "metadata": {
    "pycharm": {
     "name": "#%% md\n"
    }
   },
   "source": [
    "## Solution Q3\n",
    "\n",
    "See next pages"
   ]
  }
 ],
 "metadata": {
  "kernelspec": {
   "display_name": "Python 3 (ipykernel)",
   "language": "python",
   "name": "python3"
  },
  "language_info": {
   "codemirror_mode": {
    "name": "ipython",
    "version": 3
   },
   "file_extension": ".py",
   "mimetype": "text/x-python",
   "name": "python",
   "nbconvert_exporter": "python",
   "pygments_lexer": "ipython3",
   "version": "3.8.10"
  }
 },
 "nbformat": 4,
 "nbformat_minor": 1
}